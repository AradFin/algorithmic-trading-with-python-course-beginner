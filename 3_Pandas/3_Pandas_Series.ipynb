{
 "cells": [
  {
   "cell_type": "markdown",
   "id": "cf1ecfdd",
   "metadata": {},
   "source": [
    "## Series"
   ]
  },
  {
   "cell_type": "markdown",
   "id": "7ade0164",
   "metadata": {},
   "source": [
    "### Using lists"
   ]
  },
  {
   "cell_type": "code",
   "execution_count": 1,
   "id": "cfc829cb",
   "metadata": {},
   "outputs": [],
   "source": [
    "import pandas as pd"
   ]
  },
  {
   "cell_type": "code",
   "execution_count": 2,
   "id": "4be3c122",
   "metadata": {},
   "outputs": [
    {
     "data": {
      "text/plain": [
       "a    1\n",
       "b    2\n",
       "c    3\n",
       "d    4\n",
       "dtype: int64"
      ]
     },
     "execution_count": 2,
     "metadata": {},
     "output_type": "execute_result"
    }
   ],
   "source": [
    "l = [1, 2, 3, 4]\n",
    "labels = ['a', 'b', 'c', 'd']\n",
    "my_series = pd.Series(data=l, index=labels)\n",
    "my_series"
   ]
  },
  {
   "cell_type": "code",
   "execution_count": 4,
   "id": "98666579",
   "metadata": {},
   "outputs": [
    {
     "data": {
      "text/plain": [
       "pandas.core.series.Series"
      ]
     },
     "execution_count": 4,
     "metadata": {},
     "output_type": "execute_result"
    }
   ],
   "source": [
    "type(my_series)"
   ]
  },
  {
   "cell_type": "code",
   "execution_count": 5,
   "id": "bfd87927",
   "metadata": {},
   "outputs": [
    {
     "data": {
      "text/plain": [
       "1"
      ]
     },
     "execution_count": 5,
     "metadata": {},
     "output_type": "execute_result"
    }
   ],
   "source": [
    "my_series['a']"
   ]
  },
  {
   "cell_type": "markdown",
   "id": "0b6ba58b",
   "metadata": {},
   "source": [
    "### Using Numpy arrays"
   ]
  },
  {
   "cell_type": "code",
   "execution_count": 6,
   "id": "3d7cb13a",
   "metadata": {},
   "outputs": [
    {
     "data": {
      "text/plain": [
       "a    1\n",
       "b    2\n",
       "c    3\n",
       "d    4\n",
       "dtype: int32"
      ]
     },
     "execution_count": 6,
     "metadata": {},
     "output_type": "execute_result"
    }
   ],
   "source": [
    "import numpy as np\n",
    "arr = np.array([1, 2, 3, 4])\n",
    "labels = ['a', 'b', 'c', 'd']\n",
    "my_series = pd.Series(data=arr, index=labels)\n",
    "my_series"
   ]
  },
  {
   "cell_type": "markdown",
   "id": "7f3a9d8d",
   "metadata": {},
   "source": [
    "### Data in series"
   ]
  },
  {
   "cell_type": "code",
   "execution_count": 8,
   "id": "48e79f6e",
   "metadata": {},
   "outputs": [
    {
     "data": {
      "text/plain": [
       "a      Reza\n",
       "b    Maryam\n",
       "c       Ali\n",
       "d     Hasan\n",
       "dtype: object"
      ]
     },
     "execution_count": 8,
     "metadata": {},
     "output_type": "execute_result"
    }
   ],
   "source": [
    "l = ['Reza', 'Maryam', \"Ali\", 'Hasan']\n",
    "labels = ['a', 'b', 'c', 'd']\n",
    "my_series = pd.Series(data=l, index=labels)\n",
    "my_series"
   ]
  },
  {
   "cell_type": "markdown",
   "id": "5b3af4a3",
   "metadata": {},
   "source": [
    "##### تمامی حقوق برای رضا علوی محفوظ است"
   ]
  }
 ],
 "metadata": {
  "kernelspec": {
   "display_name": "Python 3 (ipykernel)",
   "language": "python",
   "name": "python3"
  },
  "language_info": {
   "codemirror_mode": {
    "name": "ipython",
    "version": 3
   },
   "file_extension": ".py",
   "mimetype": "text/x-python",
   "name": "python",
   "nbconvert_exporter": "python",
   "pygments_lexer": "ipython3",
   "version": "3.9.7"
  }
 },
 "nbformat": 4,
 "nbformat_minor": 5
}
