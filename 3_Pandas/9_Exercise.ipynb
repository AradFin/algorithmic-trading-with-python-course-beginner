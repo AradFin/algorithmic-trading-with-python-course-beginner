{
 "cells": [
  {
   "cell_type": "markdown",
   "id": "0d6abc9c",
   "metadata": {},
   "source": [
    "# Pandas exercise"
   ]
  },
  {
   "cell_type": "markdown",
   "id": "ebc2c8de",
   "metadata": {},
   "source": [
    "##### از فایل زیر استفاده کنید:\n",
    "##### banklist.csv\n",
    "##### توجه کنید که تمامی پاسخهای این تمرین باید در یک خط کد نوشته شوند\n",
    "##### نگران نباشید. سعی خود را بکنید. اگر برایتان سخت است نگاهی به راه حل بیاندازید\n",
    "##### پاسخهای هر قسمت در پایین آن نوشته شده است\n",
    "##### سعی کنید مرحله به مرحله به این جوابها برسید\n",
    "##### --------------------------------------------------------------------------------------------------------------------------"
   ]
  },
  {
   "cell_type": "markdown",
   "id": "26bcb9f5",
   "metadata": {},
   "source": [
    "##### فایل مورد نظر شامل اطلاعات تعدادی بانک ورشکسته در کشور امریکا است.\n",
    "https://www.fdic.gov/resources/resolutions/bank-failures/failed-bank-list/\n",
    "##### در ابتدا کتابخانه را ایمپورت کنید و فایل را در یک دیتافریم ذخیره کنید به نام\n",
    "banks\n",
    "##### پنج سطرآخر را نمایش دهید"
   ]
  },
  {
   "cell_type": "code",
   "execution_count": 1,
   "id": "98b62560",
   "metadata": {},
   "outputs": [],
   "source": [
    "# Code here"
   ]
  },
  {
   "cell_type": "code",
   "execution_count": 2,
   "id": "40fa7a31",
   "metadata": {},
   "outputs": [
    {
     "data": {
      "text/html": [
       "<div>\n",
       "<style scoped>\n",
       "    .dataframe tbody tr th:only-of-type {\n",
       "        vertical-align: middle;\n",
       "    }\n",
       "\n",
       "    .dataframe tbody tr th {\n",
       "        vertical-align: top;\n",
       "    }\n",
       "\n",
       "    .dataframe thead th {\n",
       "        text-align: right;\n",
       "    }\n",
       "</style>\n",
       "<table border=\"1\" class=\"dataframe\">\n",
       "  <thead>\n",
       "    <tr style=\"text-align: right;\">\n",
       "      <th></th>\n",
       "      <th>Bank Name</th>\n",
       "      <th>City</th>\n",
       "      <th>ST</th>\n",
       "      <th>CERT</th>\n",
       "      <th>Acquiring Institution</th>\n",
       "      <th>Closing Date</th>\n",
       "      <th>Updated Date</th>\n",
       "    </tr>\n",
       "  </thead>\n",
       "  <tbody>\n",
       "    <tr>\n",
       "      <th>546</th>\n",
       "      <td>Superior Bank, FSB</td>\n",
       "      <td>Hinsdale</td>\n",
       "      <td>IL</td>\n",
       "      <td>32646</td>\n",
       "      <td>Superior Federal, FSB</td>\n",
       "      <td>27-Jul-01</td>\n",
       "      <td>19-Aug-14</td>\n",
       "    </tr>\n",
       "    <tr>\n",
       "      <th>547</th>\n",
       "      <td>Malta National Bank</td>\n",
       "      <td>Malta</td>\n",
       "      <td>OH</td>\n",
       "      <td>6629</td>\n",
       "      <td>North Valley Bank</td>\n",
       "      <td>3-May-01</td>\n",
       "      <td>18-Nov-02</td>\n",
       "    </tr>\n",
       "    <tr>\n",
       "      <th>548</th>\n",
       "      <td>First Alliance Bank &amp; Trust Co.</td>\n",
       "      <td>Manchester</td>\n",
       "      <td>NH</td>\n",
       "      <td>34264</td>\n",
       "      <td>Southern New Hampshire Bank &amp; Trust</td>\n",
       "      <td>2-Feb-01</td>\n",
       "      <td>18-Feb-03</td>\n",
       "    </tr>\n",
       "    <tr>\n",
       "      <th>549</th>\n",
       "      <td>National State Bank of Metropolis</td>\n",
       "      <td>Metropolis</td>\n",
       "      <td>IL</td>\n",
       "      <td>3815</td>\n",
       "      <td>Banterra Bank of Marion</td>\n",
       "      <td>14-Dec-00</td>\n",
       "      <td>17-Mar-05</td>\n",
       "    </tr>\n",
       "    <tr>\n",
       "      <th>550</th>\n",
       "      <td>Bank of Honolulu</td>\n",
       "      <td>Honolulu</td>\n",
       "      <td>HI</td>\n",
       "      <td>21029</td>\n",
       "      <td>Bank of the Orient</td>\n",
       "      <td>13-Oct-00</td>\n",
       "      <td>17-Mar-05</td>\n",
       "    </tr>\n",
       "  </tbody>\n",
       "</table>\n",
       "</div>"
      ],
      "text/plain": [
       "                             Bank Name        City  ST   CERT  \\\n",
       "546                 Superior Bank, FSB    Hinsdale  IL  32646   \n",
       "547                Malta National Bank       Malta  OH   6629   \n",
       "548    First Alliance Bank & Trust Co.  Manchester  NH  34264   \n",
       "549  National State Bank of Metropolis  Metropolis  IL   3815   \n",
       "550                   Bank of Honolulu    Honolulu  HI  21029   \n",
       "\n",
       "                   Acquiring Institution Closing Date Updated Date  \n",
       "546                Superior Federal, FSB    27-Jul-01    19-Aug-14  \n",
       "547                    North Valley Bank     3-May-01    18-Nov-02  \n",
       "548  Southern New Hampshire Bank & Trust     2-Feb-01    18-Feb-03  \n",
       "549              Banterra Bank of Marion    14-Dec-00    17-Mar-05  \n",
       "550                   Bank of the Orient    13-Oct-00    17-Mar-05  "
      ]
     },
     "execution_count": 2,
     "metadata": {},
     "output_type": "execute_result"
    }
   ],
   "source": [
    "import pandas as pd\n",
    "import numpy as np\n",
    "banks = pd.read_csv('banklist.csv')\n",
    "banks.tail(5)"
   ]
  },
  {
   "cell_type": "code",
   "execution_count": 1,
   "id": "a8c08c91",
   "metadata": {},
   "outputs": [
    {
     "data": {
      "text/html": [
       "<div>\n",
       "<style scoped>\n",
       "    .dataframe tbody tr th:only-of-type {\n",
       "        vertical-align: middle;\n",
       "    }\n",
       "\n",
       "    .dataframe tbody tr th {\n",
       "        vertical-align: top;\n",
       "    }\n",
       "\n",
       "    .dataframe thead th {\n",
       "        text-align: right;\n",
       "    }\n",
       "</style>\n",
       "<table border=\"1\" class=\"dataframe\">\n",
       "  <thead>\n",
       "    <tr style=\"text-align: right;\">\n",
       "      <th></th>\n",
       "      <th>Bank Name</th>\n",
       "      <th>City</th>\n",
       "      <th>ST</th>\n",
       "      <th>CERT</th>\n",
       "      <th>Acquiring Institution</th>\n",
       "      <th>Closing Date</th>\n",
       "      <th>Updated Date</th>\n",
       "    </tr>\n",
       "  </thead>\n",
       "  <tbody>\n",
       "    <tr>\n",
       "      <th>546</th>\n",
       "      <td>Superior Bank, FSB</td>\n",
       "      <td>Hinsdale</td>\n",
       "      <td>IL</td>\n",
       "      <td>32646</td>\n",
       "      <td>Superior Federal, FSB</td>\n",
       "      <td>27-Jul-01</td>\n",
       "      <td>19-Aug-14</td>\n",
       "    </tr>\n",
       "    <tr>\n",
       "      <th>547</th>\n",
       "      <td>Malta National Bank</td>\n",
       "      <td>Malta</td>\n",
       "      <td>OH</td>\n",
       "      <td>6629</td>\n",
       "      <td>North Valley Bank</td>\n",
       "      <td>3-May-01</td>\n",
       "      <td>18-Nov-02</td>\n",
       "    </tr>\n",
       "    <tr>\n",
       "      <th>548</th>\n",
       "      <td>First Alliance Bank &amp; Trust Co.</td>\n",
       "      <td>Manchester</td>\n",
       "      <td>NH</td>\n",
       "      <td>34264</td>\n",
       "      <td>Southern New Hampshire Bank &amp; Trust</td>\n",
       "      <td>2-Feb-01</td>\n",
       "      <td>18-Feb-03</td>\n",
       "    </tr>\n",
       "    <tr>\n",
       "      <th>549</th>\n",
       "      <td>National State Bank of Metropolis</td>\n",
       "      <td>Metropolis</td>\n",
       "      <td>IL</td>\n",
       "      <td>3815</td>\n",
       "      <td>Banterra Bank of Marion</td>\n",
       "      <td>14-Dec-00</td>\n",
       "      <td>17-Mar-05</td>\n",
       "    </tr>\n",
       "    <tr>\n",
       "      <th>550</th>\n",
       "      <td>Bank of Honolulu</td>\n",
       "      <td>Honolulu</td>\n",
       "      <td>HI</td>\n",
       "      <td>21029</td>\n",
       "      <td>Bank of the Orient</td>\n",
       "      <td>13-Oct-00</td>\n",
       "      <td>17-Mar-05</td>\n",
       "    </tr>\n",
       "  </tbody>\n",
       "</table>\n",
       "</div>"
      ],
      "text/plain": [
       "                             Bank Name        City  ST   CERT  \\\n",
       "546                 Superior Bank, FSB    Hinsdale  IL  32646   \n",
       "547                Malta National Bank       Malta  OH   6629   \n",
       "548    First Alliance Bank & Trust Co.  Manchester  NH  34264   \n",
       "549  National State Bank of Metropolis  Metropolis  IL   3815   \n",
       "550                   Bank of Honolulu    Honolulu  HI  21029   \n",
       "\n",
       "                   Acquiring Institution Closing Date Updated Date  \n",
       "546                Superior Federal, FSB    27-Jul-01    19-Aug-14  \n",
       "547                    North Valley Bank     3-May-01    18-Nov-02  \n",
       "548  Southern New Hampshire Bank & Trust     2-Feb-01    18-Feb-03  \n",
       "549              Banterra Bank of Marion    14-Dec-00    17-Mar-05  \n",
       "550                   Bank of the Orient    13-Oct-00    17-Mar-05  "
      ]
     },
     "execution_count": 1,
     "metadata": {},
     "output_type": "execute_result"
    }
   ],
   "source": []
  },
  {
   "cell_type": "markdown",
   "id": "3850f312",
   "metadata": {},
   "source": [
    "##### دیتافریم چه ستونهایی دارد؟"
   ]
  },
  {
   "cell_type": "code",
   "execution_count": 2,
   "id": "49746b8a",
   "metadata": {},
   "outputs": [],
   "source": [
    "# Code here"
   ]
  },
  {
   "cell_type": "code",
   "execution_count": null,
   "id": "ed519306",
   "metadata": {},
   "outputs": [],
   "source": []
  },
  {
   "cell_type": "code",
   "execution_count": 3,
   "id": "b7b4956d",
   "metadata": {},
   "outputs": [
    {
     "data": {
      "text/plain": [
       "Index(['Bank Name', 'City', 'ST', 'CERT', 'Acquiring Institution',\n",
       "       'Closing Date', 'Updated Date'],\n",
       "      dtype='object')"
      ]
     },
     "execution_count": 3,
     "metadata": {},
     "output_type": "execute_result"
    }
   ],
   "source": []
  },
  {
   "cell_type": "markdown",
   "id": "2d87b827",
   "metadata": {},
   "source": [
    "##### چند ایالت منحصر به فرد داریم؟\n",
    "##### (ST : state)"
   ]
  },
  {
   "cell_type": "code",
   "execution_count": 4,
   "id": "0b00c4b4",
   "metadata": {},
   "outputs": [],
   "source": [
    "# Code here"
   ]
  },
  {
   "cell_type": "code",
   "execution_count": null,
   "id": "dcdea3cb",
   "metadata": {},
   "outputs": [],
   "source": []
  },
  {
   "cell_type": "code",
   "execution_count": 5,
   "id": "65b935fa",
   "metadata": {},
   "outputs": [
    {
     "data": {
      "text/plain": [
       "44"
      ]
     },
     "execution_count": 5,
     "metadata": {},
     "output_type": "execute_result"
    }
   ],
   "source": []
  },
  {
   "cell_type": "markdown",
   "id": "f6783755",
   "metadata": {},
   "source": [
    "##### تمام ایالتها را نشان دهید"
   ]
  },
  {
   "cell_type": "code",
   "execution_count": 6,
   "id": "d38caf36",
   "metadata": {},
   "outputs": [],
   "source": [
    "# Code here"
   ]
  },
  {
   "cell_type": "code",
   "execution_count": null,
   "id": "f3ec2607",
   "metadata": {},
   "outputs": [],
   "source": []
  },
  {
   "cell_type": "code",
   "execution_count": 7,
   "id": "5990b4b4",
   "metadata": {},
   "outputs": [
    {
     "data": {
      "text/plain": [
       "array(['IL', 'WI', 'LA', 'UT', 'NJ', 'AR', 'GA', 'PA', 'TN', 'WA', 'CO',\n",
       "       'PR', 'FL', 'MN', 'CA', 'MD', 'OK', 'OH', 'SC', 'VA', 'ID', 'TX',\n",
       "       'CT', 'AZ', 'NV', 'NC', 'KY', 'MO', 'KS', 'AL', 'MI', 'IN', 'IA',\n",
       "       'NE', 'MS', 'NM', 'OR', 'NY', 'MA', 'SD', 'WY', 'WV', 'NH', 'HI'],\n",
       "      dtype=object)"
      ]
     },
     "execution_count": 7,
     "metadata": {},
     "output_type": "execute_result"
    }
   ],
   "source": []
  },
  {
   "cell_type": "markdown",
   "id": "f52187b7",
   "metadata": {},
   "source": [
    "___________________________________________________________________________________________________________\n",
    "> ##### نکته تکمیلی:\n",
    ">> ##### مرتب کردن سطرهای دیتافریم بر اساس مقادیر یک ستون:\n",
    ">>> ##### df.sort_values(by='col') \n",
    ">>> (inplace=False by default)"
   ]
  },
  {
   "cell_type": "code",
   "execution_count": 8,
   "id": "a310313e",
   "metadata": {},
   "outputs": [
    {
     "name": "stdout",
     "output_type": "stream",
     "text": [
      "Original DF:\n",
      "   col1  col2 col3\n",
      "0     2    44  abc\n",
      "1     3    55  def\n",
      "2     1    66  ghi\n",
      "3     4    44  xyz\n",
      "\n",
      "\n",
      "Sorted values (ascending) :\n",
      "   col1  col2 col3\n",
      "2     1    66  ghi\n",
      "0     2    44  abc\n",
      "1     3    55  def\n",
      "3     4    44  xyz\n",
      "\n",
      "\n",
      "Sorted values (descending) :\n",
      "   col1  col2 col3\n",
      "3     4    44  xyz\n",
      "1     3    55  def\n",
      "0     2    44  abc\n",
      "2     1    66  ghi\n"
     ]
    }
   ],
   "source": [
    "# sort_values :\n",
    "df1 = pd.DataFrame({'col1':[2,3,1,4],'col2':[44,55,66,44],'col3':['abc','def','ghi','xyz']})\n",
    "print('Original DF:')\n",
    "print(df1.head())\n",
    "print('\\n')\n",
    "\n",
    "print('Sorted values (ascending) :')\n",
    "print(df1.sort_values(by='col1'))\n",
    "print('\\n')\n",
    "\n",
    "print('Sorted values (descending) :')\n",
    "print(df1.sort_values(by='col1', ascending=False))"
   ]
  },
  {
   "cell_type": "markdown",
   "id": "a2328571",
   "metadata": {},
   "source": [
    "##### پنج ایالت که بیشترین بانک ورشکسته را دارند؟"
   ]
  },
  {
   "cell_type": "code",
   "execution_count": 9,
   "id": "d0de1089",
   "metadata": {},
   "outputs": [],
   "source": [
    "# Code here"
   ]
  },
  {
   "cell_type": "code",
   "execution_count": null,
   "id": "2277dd64",
   "metadata": {},
   "outputs": [],
   "source": []
  },
  {
   "cell_type": "code",
   "execution_count": 3,
   "id": "9d667d51",
   "metadata": {},
   "outputs": [
    {
     "data": {
      "text/html": [
       "<div>\n",
       "<style scoped>\n",
       "    .dataframe tbody tr th:only-of-type {\n",
       "        vertical-align: middle;\n",
       "    }\n",
       "\n",
       "    .dataframe tbody tr th {\n",
       "        vertical-align: top;\n",
       "    }\n",
       "\n",
       "    .dataframe thead th {\n",
       "        text-align: right;\n",
       "    }\n",
       "</style>\n",
       "<table border=\"1\" class=\"dataframe\">\n",
       "  <thead>\n",
       "    <tr style=\"text-align: right;\">\n",
       "      <th></th>\n",
       "      <th>Bank Name</th>\n",
       "      <th>City</th>\n",
       "      <th>CERT</th>\n",
       "      <th>Acquiring Institution</th>\n",
       "      <th>Closing Date</th>\n",
       "      <th>Updated Date</th>\n",
       "    </tr>\n",
       "    <tr>\n",
       "      <th>ST</th>\n",
       "      <th></th>\n",
       "      <th></th>\n",
       "      <th></th>\n",
       "      <th></th>\n",
       "      <th></th>\n",
       "      <th></th>\n",
       "    </tr>\n",
       "  </thead>\n",
       "  <tbody>\n",
       "    <tr>\n",
       "      <th>MN</th>\n",
       "      <td>23</td>\n",
       "      <td>23</td>\n",
       "      <td>23</td>\n",
       "      <td>23</td>\n",
       "      <td>23</td>\n",
       "      <td>23</td>\n",
       "    </tr>\n",
       "    <tr>\n",
       "      <th>CA</th>\n",
       "      <td>41</td>\n",
       "      <td>41</td>\n",
       "      <td>41</td>\n",
       "      <td>41</td>\n",
       "      <td>41</td>\n",
       "      <td>41</td>\n",
       "    </tr>\n",
       "    <tr>\n",
       "      <th>IL</th>\n",
       "      <td>67</td>\n",
       "      <td>67</td>\n",
       "      <td>67</td>\n",
       "      <td>67</td>\n",
       "      <td>67</td>\n",
       "      <td>67</td>\n",
       "    </tr>\n",
       "    <tr>\n",
       "      <th>FL</th>\n",
       "      <td>75</td>\n",
       "      <td>75</td>\n",
       "      <td>75</td>\n",
       "      <td>75</td>\n",
       "      <td>75</td>\n",
       "      <td>75</td>\n",
       "    </tr>\n",
       "    <tr>\n",
       "      <th>GA</th>\n",
       "      <td>93</td>\n",
       "      <td>93</td>\n",
       "      <td>93</td>\n",
       "      <td>93</td>\n",
       "      <td>93</td>\n",
       "      <td>93</td>\n",
       "    </tr>\n",
       "  </tbody>\n",
       "</table>\n",
       "</div>"
      ],
      "text/plain": [
       "    Bank Name  City  CERT  Acquiring Institution  Closing Date  Updated Date\n",
       "ST                                                                          \n",
       "MN         23    23    23                     23            23            23\n",
       "CA         41    41    41                     41            41            41\n",
       "IL         67    67    67                     67            67            67\n",
       "FL         75    75    75                     75            75            75\n",
       "GA         93    93    93                     93            93            93"
      ]
     },
     "execution_count": 3,
     "metadata": {},
     "output_type": "execute_result"
    }
   ],
   "source": []
  },
  {
   "cell_type": "markdown",
   "id": "c0e7503d",
   "metadata": {},
   "source": [
    "##### پنج موسسه تصاحب کننده پر تکرار را بدست آورید\n",
    "(acquiring institutions)"
   ]
  },
  {
   "cell_type": "code",
   "execution_count": 11,
   "id": "867b31dd",
   "metadata": {},
   "outputs": [],
   "source": [
    "# Code here"
   ]
  },
  {
   "cell_type": "code",
   "execution_count": null,
   "id": "b1c45adf",
   "metadata": {},
   "outputs": [],
   "source": []
  },
  {
   "cell_type": "code",
   "execution_count": 12,
   "id": "9bcc99b1",
   "metadata": {
    "scrolled": false
   },
   "outputs": [
    {
     "data": {
      "text/plain": [
       "No Acquirer                            31\n",
       "State Bank and Trust Company           12\n",
       "First-Citizens Bank & Trust Company    11\n",
       "Ameris Bank                            10\n",
       "U.S. Bank N.A.                          9\n",
       "Name: Acquiring Institution, dtype: int64"
      ]
     },
     "execution_count": 12,
     "metadata": {},
     "output_type": "execute_result"
    }
   ],
   "source": []
  },
  {
   "cell_type": "markdown",
   "id": "9f45f8e9",
   "metadata": {},
   "source": [
    "##### چند بانک توسط این موسسه تصاحب شده است؟\n",
    "State Bank of Texas"
   ]
  },
  {
   "cell_type": "code",
   "execution_count": 13,
   "id": "681fa75a",
   "metadata": {},
   "outputs": [],
   "source": [
    "# Code here"
   ]
  },
  {
   "cell_type": "code",
   "execution_count": null,
   "id": "7b6532aa",
   "metadata": {},
   "outputs": [],
   "source": []
  },
  {
   "cell_type": "code",
   "execution_count": 14,
   "id": "cb22e477",
   "metadata": {},
   "outputs": [
    {
     "data": {
      "text/html": [
       "<div>\n",
       "<style scoped>\n",
       "    .dataframe tbody tr th:only-of-type {\n",
       "        vertical-align: middle;\n",
       "    }\n",
       "\n",
       "    .dataframe tbody tr th {\n",
       "        vertical-align: top;\n",
       "    }\n",
       "\n",
       "    .dataframe thead th {\n",
       "        text-align: right;\n",
       "    }\n",
       "</style>\n",
       "<table border=\"1\" class=\"dataframe\">\n",
       "  <thead>\n",
       "    <tr style=\"text-align: right;\">\n",
       "      <th></th>\n",
       "      <th>Bank Name</th>\n",
       "      <th>City</th>\n",
       "      <th>ST</th>\n",
       "      <th>CERT</th>\n",
       "      <th>Acquiring Institution</th>\n",
       "      <th>Closing Date</th>\n",
       "      <th>Updated Date</th>\n",
       "    </tr>\n",
       "  </thead>\n",
       "  <tbody>\n",
       "    <tr>\n",
       "      <th>4</th>\n",
       "      <td>Seaway Bank and Trust Company</td>\n",
       "      <td>Chicago</td>\n",
       "      <td>IL</td>\n",
       "      <td>19328</td>\n",
       "      <td>State Bank of Texas</td>\n",
       "      <td>27-Jan-17</td>\n",
       "      <td>18-May-17</td>\n",
       "    </tr>\n",
       "    <tr>\n",
       "      <th>21</th>\n",
       "      <td>The National Republic Bank of Chicago</td>\n",
       "      <td>Chicago</td>\n",
       "      <td>IL</td>\n",
       "      <td>916</td>\n",
       "      <td>State Bank of Texas</td>\n",
       "      <td>24-Oct-14</td>\n",
       "      <td>6-Jan-16</td>\n",
       "    </tr>\n",
       "    <tr>\n",
       "      <th>450</th>\n",
       "      <td>Millennium State Bank of Texas</td>\n",
       "      <td>Dallas</td>\n",
       "      <td>TX</td>\n",
       "      <td>57667</td>\n",
       "      <td>State Bank of Texas</td>\n",
       "      <td>2-Jul-09</td>\n",
       "      <td>26-Oct-12</td>\n",
       "    </tr>\n",
       "  </tbody>\n",
       "</table>\n",
       "</div>"
      ],
      "text/plain": [
       "                                 Bank Name     City  ST   CERT  \\\n",
       "4            Seaway Bank and Trust Company  Chicago  IL  19328   \n",
       "21   The National Republic Bank of Chicago  Chicago  IL    916   \n",
       "450         Millennium State Bank of Texas   Dallas  TX  57667   \n",
       "\n",
       "    Acquiring Institution Closing Date Updated Date  \n",
       "4     State Bank of Texas    27-Jan-17    18-May-17  \n",
       "21    State Bank of Texas    24-Oct-14     6-Jan-16  \n",
       "450   State Bank of Texas     2-Jul-09    26-Oct-12  "
      ]
     },
     "execution_count": 14,
     "metadata": {},
     "output_type": "execute_result"
    }
   ],
   "source": []
  },
  {
   "cell_type": "markdown",
   "id": "97ee6dbe",
   "metadata": {},
   "source": [
    "##### همچنین چند تا از بانکهای قسمت قبل در خود  ایالت تکزاس واقع شده اند؟\n",
    "( banks['ST'] == 'TX' )"
   ]
  },
  {
   "cell_type": "code",
   "execution_count": 15,
   "id": "1f85cc9f",
   "metadata": {},
   "outputs": [],
   "source": [
    "# Code here"
   ]
  },
  {
   "cell_type": "code",
   "execution_count": null,
   "id": "2ae5d937",
   "metadata": {},
   "outputs": [],
   "source": []
  },
  {
   "cell_type": "code",
   "execution_count": 16,
   "id": "02b92901",
   "metadata": {},
   "outputs": [
    {
     "data": {
      "text/html": [
       "<div>\n",
       "<style scoped>\n",
       "    .dataframe tbody tr th:only-of-type {\n",
       "        vertical-align: middle;\n",
       "    }\n",
       "\n",
       "    .dataframe tbody tr th {\n",
       "        vertical-align: top;\n",
       "    }\n",
       "\n",
       "    .dataframe thead th {\n",
       "        text-align: right;\n",
       "    }\n",
       "</style>\n",
       "<table border=\"1\" class=\"dataframe\">\n",
       "  <thead>\n",
       "    <tr style=\"text-align: right;\">\n",
       "      <th></th>\n",
       "      <th>Bank Name</th>\n",
       "      <th>City</th>\n",
       "      <th>ST</th>\n",
       "      <th>CERT</th>\n",
       "      <th>Acquiring Institution</th>\n",
       "      <th>Closing Date</th>\n",
       "      <th>Updated Date</th>\n",
       "    </tr>\n",
       "  </thead>\n",
       "  <tbody>\n",
       "    <tr>\n",
       "      <th>450</th>\n",
       "      <td>Millennium State Bank of Texas</td>\n",
       "      <td>Dallas</td>\n",
       "      <td>TX</td>\n",
       "      <td>57667</td>\n",
       "      <td>State Bank of Texas</td>\n",
       "      <td>2-Jul-09</td>\n",
       "      <td>26-Oct-12</td>\n",
       "    </tr>\n",
       "  </tbody>\n",
       "</table>\n",
       "</div>"
      ],
      "text/plain": [
       "                          Bank Name    City  ST   CERT Acquiring Institution  \\\n",
       "450  Millennium State Bank of Texas  Dallas  TX  57667   State Bank of Texas   \n",
       "\n",
       "    Closing Date Updated Date  \n",
       "450     2-Jul-09    26-Oct-12  "
      ]
     },
     "execution_count": 16,
     "metadata": {},
     "output_type": "execute_result"
    }
   ],
   "source": []
  },
  {
   "cell_type": "markdown",
   "id": "87941701",
   "metadata": {},
   "source": [
    "##### کدام شهر دارای بیشترین بانک ورشکسته در ایالت کالیفرنیا است؟\n",
    "(banks['ST']=='CA')"
   ]
  },
  {
   "cell_type": "code",
   "execution_count": 17,
   "id": "450eea56",
   "metadata": {},
   "outputs": [],
   "source": [
    "# Code here"
   ]
  },
  {
   "cell_type": "code",
   "execution_count": null,
   "id": "5df8fff6",
   "metadata": {},
   "outputs": [],
   "source": []
  },
  {
   "cell_type": "code",
   "execution_count": 18,
   "id": "dba7abed",
   "metadata": {},
   "outputs": [
    {
     "data": {
      "text/html": [
       "<div>\n",
       "<style scoped>\n",
       "    .dataframe tbody tr th:only-of-type {\n",
       "        vertical-align: middle;\n",
       "    }\n",
       "\n",
       "    .dataframe tbody tr th {\n",
       "        vertical-align: top;\n",
       "    }\n",
       "\n",
       "    .dataframe thead th {\n",
       "        text-align: right;\n",
       "    }\n",
       "</style>\n",
       "<table border=\"1\" class=\"dataframe\">\n",
       "  <thead>\n",
       "    <tr style=\"text-align: right;\">\n",
       "      <th></th>\n",
       "      <th>Bank Name</th>\n",
       "      <th>ST</th>\n",
       "      <th>CERT</th>\n",
       "      <th>Acquiring Institution</th>\n",
       "      <th>Closing Date</th>\n",
       "      <th>Updated Date</th>\n",
       "    </tr>\n",
       "    <tr>\n",
       "      <th>City</th>\n",
       "      <th></th>\n",
       "      <th></th>\n",
       "      <th></th>\n",
       "      <th></th>\n",
       "      <th></th>\n",
       "      <th></th>\n",
       "    </tr>\n",
       "  </thead>\n",
       "  <tbody>\n",
       "    <tr>\n",
       "      <th>Los Angeles</th>\n",
       "      <td>4</td>\n",
       "      <td>4</td>\n",
       "      <td>4</td>\n",
       "      <td>4</td>\n",
       "      <td>4</td>\n",
       "      <td>4</td>\n",
       "    </tr>\n",
       "  </tbody>\n",
       "</table>\n",
       "</div>"
      ],
      "text/plain": [
       "             Bank Name  ST  CERT  Acquiring Institution  Closing Date  \\\n",
       "City                                                                    \n",
       "Los Angeles          4   4     4                      4             4   \n",
       "\n",
       "             Updated Date  \n",
       "City                       \n",
       "Los Angeles             4  "
      ]
     },
     "execution_count": 18,
     "metadata": {},
     "output_type": "execute_result"
    }
   ],
   "source": []
  },
  {
   "cell_type": "markdown",
   "id": "9ee45242",
   "metadata": {},
   "source": [
    "##### چند بانک ورشکسته در نام خود کلمه بانک را ندارند؟\n",
    "##### Bank"
   ]
  },
  {
   "cell_type": "code",
   "execution_count": 19,
   "id": "64b88daa",
   "metadata": {},
   "outputs": [],
   "source": [
    "# Code here"
   ]
  },
  {
   "cell_type": "code",
   "execution_count": null,
   "id": "695ec94a",
   "metadata": {},
   "outputs": [],
   "source": []
  },
  {
   "cell_type": "code",
   "execution_count": 20,
   "id": "2d6c4291",
   "metadata": {},
   "outputs": [
    {
     "data": {
      "text/plain": [
       "14"
      ]
     },
     "execution_count": 20,
     "metadata": {},
     "output_type": "execute_result"
    }
   ],
   "source": []
  },
  {
   "cell_type": "markdown",
   "id": "0f23a7d6",
   "metadata": {},
   "source": [
    "##### نام چند بانک با این حرف شروع می شود؟\n",
    "S"
   ]
  },
  {
   "cell_type": "code",
   "execution_count": 21,
   "id": "05d2c1b5",
   "metadata": {},
   "outputs": [],
   "source": [
    "# Code here"
   ]
  },
  {
   "cell_type": "code",
   "execution_count": null,
   "id": "383454ec",
   "metadata": {},
   "outputs": [],
   "source": []
  },
  {
   "cell_type": "code",
   "execution_count": 22,
   "id": "28584946",
   "metadata": {},
   "outputs": [
    {
     "data": {
      "text/plain": [
       "53"
      ]
     },
     "execution_count": 22,
     "metadata": {},
     "output_type": "execute_result"
    }
   ],
   "source": []
  },
  {
   "cell_type": "markdown",
   "id": "35321aa3",
   "metadata": {},
   "source": [
    "##### چند تا از مقادیر ستون با عنوان زیر بالای 20000 هستند؟\n",
    "'CERT'"
   ]
  },
  {
   "cell_type": "code",
   "execution_count": 23,
   "id": "b84937e6",
   "metadata": {},
   "outputs": [],
   "source": [
    "# Code here"
   ]
  },
  {
   "cell_type": "code",
   "execution_count": null,
   "id": "9570d1db",
   "metadata": {},
   "outputs": [],
   "source": []
  },
  {
   "cell_type": "code",
   "execution_count": 24,
   "id": "2d700e09",
   "metadata": {},
   "outputs": [
    {
     "data": {
      "text/plain": [
       "417"
      ]
     },
     "execution_count": 24,
     "metadata": {},
     "output_type": "execute_result"
    }
   ],
   "source": []
  },
  {
   "cell_type": "markdown",
   "id": "cae83a81",
   "metadata": {},
   "source": [
    "##### نام چند بانک از دقیقا دو کلمه تشکیل شده است؟"
   ]
  },
  {
   "cell_type": "code",
   "execution_count": 25,
   "id": "78a78df3",
   "metadata": {},
   "outputs": [],
   "source": [
    "# Code here"
   ]
  },
  {
   "cell_type": "code",
   "execution_count": null,
   "id": "051eec67",
   "metadata": {},
   "outputs": [],
   "source": []
  },
  {
   "cell_type": "code",
   "execution_count": 26,
   "id": "3869ae29",
   "metadata": {},
   "outputs": [
    {
     "data": {
      "text/plain": [
       "114"
      ]
     },
     "execution_count": 26,
     "metadata": {},
     "output_type": "execute_result"
    }
   ],
   "source": []
  },
  {
   "cell_type": "markdown",
   "id": "f34d686d",
   "metadata": {},
   "source": [
    "##### (سوال امتیازی)\n",
    "##### نام بانکهای ورشکسته در سال 2008 را بدست آورید"
   ]
  },
  {
   "cell_type": "code",
   "execution_count": 27,
   "id": "1bdccbcc",
   "metadata": {},
   "outputs": [
    {
     "data": {
      "text/plain": [
       "0     2017-05-26\n",
       "1     2017-05-05\n",
       "2     2017-04-28\n",
       "3     2017-03-03\n",
       "4     2017-01-27\n",
       "         ...    \n",
       "546   2001-07-27\n",
       "547   2001-05-03\n",
       "548   2001-02-02\n",
       "549   2000-12-14\n",
       "550   2000-10-13\n",
       "Name: Closing Date, Length: 551, dtype: datetime64[ns]"
      ]
     },
     "execution_count": 27,
     "metadata": {},
     "output_type": "execute_result"
    }
   ],
   "source": [
    "# راهنمایی\n",
    "pd.to_datetime(banks['Closing Date'])"
   ]
  },
  {
   "cell_type": "code",
   "execution_count": 28,
   "id": "d1db3a14",
   "metadata": {},
   "outputs": [],
   "source": [
    "# Code here"
   ]
  },
  {
   "cell_type": "code",
   "execution_count": null,
   "id": "9cd041e1",
   "metadata": {},
   "outputs": [],
   "source": []
  },
  {
   "cell_type": "code",
   "execution_count": 29,
   "id": "db153d64",
   "metadata": {},
   "outputs": [
    {
     "data": {
      "text/html": [
       "<div>\n",
       "<style scoped>\n",
       "    .dataframe tbody tr th:only-of-type {\n",
       "        vertical-align: middle;\n",
       "    }\n",
       "\n",
       "    .dataframe tbody tr th {\n",
       "        vertical-align: top;\n",
       "    }\n",
       "\n",
       "    .dataframe thead th {\n",
       "        text-align: right;\n",
       "    }\n",
       "</style>\n",
       "<table border=\"1\" class=\"dataframe\">\n",
       "  <thead>\n",
       "    <tr style=\"text-align: right;\">\n",
       "      <th></th>\n",
       "      <th>Bank Name</th>\n",
       "      <th>City</th>\n",
       "      <th>ST</th>\n",
       "      <th>CERT</th>\n",
       "      <th>Acquiring Institution</th>\n",
       "      <th>Closing Date</th>\n",
       "      <th>Updated Date</th>\n",
       "    </tr>\n",
       "  </thead>\n",
       "  <tbody>\n",
       "    <tr>\n",
       "      <th>501</th>\n",
       "      <td>Sanderson State Bank</td>\n",
       "      <td>Sanderson</td>\n",
       "      <td>TX</td>\n",
       "      <td>11568</td>\n",
       "      <td>The Pecos County State Bank</td>\n",
       "      <td>12-Dec-08</td>\n",
       "      <td>25-Oct-13</td>\n",
       "    </tr>\n",
       "    <tr>\n",
       "      <th>502</th>\n",
       "      <td>Haven Trust Bank</td>\n",
       "      <td>Duluth</td>\n",
       "      <td>GA</td>\n",
       "      <td>35379</td>\n",
       "      <td>Branch Banking &amp; Trust Company, (BB&amp;T)</td>\n",
       "      <td>12-Dec-08</td>\n",
       "      <td>16-Aug-12</td>\n",
       "    </tr>\n",
       "    <tr>\n",
       "      <th>503</th>\n",
       "      <td>First Georgia Community Bank</td>\n",
       "      <td>Jackson</td>\n",
       "      <td>GA</td>\n",
       "      <td>34301</td>\n",
       "      <td>United Bank</td>\n",
       "      <td>5-Dec-08</td>\n",
       "      <td>16-Aug-12</td>\n",
       "    </tr>\n",
       "    <tr>\n",
       "      <th>504</th>\n",
       "      <td>PFF Bank &amp; Trust</td>\n",
       "      <td>Pomona</td>\n",
       "      <td>CA</td>\n",
       "      <td>28344</td>\n",
       "      <td>U.S. Bank, N.A.</td>\n",
       "      <td>21-Nov-08</td>\n",
       "      <td>4-Jan-13</td>\n",
       "    </tr>\n",
       "    <tr>\n",
       "      <th>505</th>\n",
       "      <td>Downey Savings &amp; Loan</td>\n",
       "      <td>Newport Beach</td>\n",
       "      <td>CA</td>\n",
       "      <td>30968</td>\n",
       "      <td>U.S. Bank, N.A.</td>\n",
       "      <td>21-Nov-08</td>\n",
       "      <td>4-Jan-13</td>\n",
       "    </tr>\n",
       "    <tr>\n",
       "      <th>506</th>\n",
       "      <td>Community Bank</td>\n",
       "      <td>Loganville</td>\n",
       "      <td>GA</td>\n",
       "      <td>16490</td>\n",
       "      <td>Bank of Essex</td>\n",
       "      <td>21-Nov-08</td>\n",
       "      <td>4-Sep-12</td>\n",
       "    </tr>\n",
       "    <tr>\n",
       "      <th>507</th>\n",
       "      <td>Security Pacific Bank</td>\n",
       "      <td>Los Angeles</td>\n",
       "      <td>CA</td>\n",
       "      <td>23595</td>\n",
       "      <td>Pacific Western Bank</td>\n",
       "      <td>7-Nov-08</td>\n",
       "      <td>28-Aug-12</td>\n",
       "    </tr>\n",
       "    <tr>\n",
       "      <th>508</th>\n",
       "      <td>Franklin Bank, SSB</td>\n",
       "      <td>Houston</td>\n",
       "      <td>TX</td>\n",
       "      <td>26870</td>\n",
       "      <td>Prosperity Bank</td>\n",
       "      <td>7-Nov-08</td>\n",
       "      <td>16-Aug-12</td>\n",
       "    </tr>\n",
       "    <tr>\n",
       "      <th>509</th>\n",
       "      <td>Freedom Bank</td>\n",
       "      <td>Bradenton</td>\n",
       "      <td>FL</td>\n",
       "      <td>57930</td>\n",
       "      <td>Fifth Third Bank</td>\n",
       "      <td>31-Oct-08</td>\n",
       "      <td>16-Aug-12</td>\n",
       "    </tr>\n",
       "    <tr>\n",
       "      <th>510</th>\n",
       "      <td>Alpha Bank &amp; Trust</td>\n",
       "      <td>Alpharetta</td>\n",
       "      <td>GA</td>\n",
       "      <td>58241</td>\n",
       "      <td>Stearns Bank, N.A.</td>\n",
       "      <td>24-Oct-08</td>\n",
       "      <td>16-Aug-12</td>\n",
       "    </tr>\n",
       "    <tr>\n",
       "      <th>511</th>\n",
       "      <td>Meridian Bank</td>\n",
       "      <td>Eldred</td>\n",
       "      <td>IL</td>\n",
       "      <td>13789</td>\n",
       "      <td>National Bank</td>\n",
       "      <td>10-Oct-08</td>\n",
       "      <td>31-May-12</td>\n",
       "    </tr>\n",
       "    <tr>\n",
       "      <th>512</th>\n",
       "      <td>Main Street Bank</td>\n",
       "      <td>Northville</td>\n",
       "      <td>MI</td>\n",
       "      <td>57654</td>\n",
       "      <td>Monroe Bank &amp; Trust</td>\n",
       "      <td>10-Oct-08</td>\n",
       "      <td>1-Aug-13</td>\n",
       "    </tr>\n",
       "    <tr>\n",
       "      <th>513</th>\n",
       "      <td>Washington Mutual Bank (Including its subsidia...</td>\n",
       "      <td>Henderson</td>\n",
       "      <td>NV</td>\n",
       "      <td>32633</td>\n",
       "      <td>JP Morgan Chase Bank</td>\n",
       "      <td>25-Sep-08</td>\n",
       "      <td>4-Aug-15</td>\n",
       "    </tr>\n",
       "    <tr>\n",
       "      <th>514</th>\n",
       "      <td>Ameribank</td>\n",
       "      <td>Northfork</td>\n",
       "      <td>WV</td>\n",
       "      <td>6782</td>\n",
       "      <td>The Citizens Savings Bank, Pioneer Community B...</td>\n",
       "      <td>19-Sep-08</td>\n",
       "      <td>21-Sep-15</td>\n",
       "    </tr>\n",
       "    <tr>\n",
       "      <th>515</th>\n",
       "      <td>Silver State Bank</td>\n",
       "      <td>Henderson</td>\n",
       "      <td>NV</td>\n",
       "      <td>34194</td>\n",
       "      <td>Nevada State Bank</td>\n",
       "      <td>5-Sep-08</td>\n",
       "      <td>25-Oct-13</td>\n",
       "    </tr>\n",
       "    <tr>\n",
       "      <th>516</th>\n",
       "      <td>Integrity Bank</td>\n",
       "      <td>Alpharetta</td>\n",
       "      <td>GA</td>\n",
       "      <td>35469</td>\n",
       "      <td>Regions Bank</td>\n",
       "      <td>29-Aug-08</td>\n",
       "      <td>16-Aug-12</td>\n",
       "    </tr>\n",
       "    <tr>\n",
       "      <th>517</th>\n",
       "      <td>Columbian Bank &amp; Trust</td>\n",
       "      <td>Topeka</td>\n",
       "      <td>KS</td>\n",
       "      <td>22728</td>\n",
       "      <td>Citizens Bank &amp; Trust</td>\n",
       "      <td>22-Aug-08</td>\n",
       "      <td>26-Mar-15</td>\n",
       "    </tr>\n",
       "    <tr>\n",
       "      <th>518</th>\n",
       "      <td>First Priority Bank</td>\n",
       "      <td>Bradenton</td>\n",
       "      <td>FL</td>\n",
       "      <td>57523</td>\n",
       "      <td>SunTrust Bank</td>\n",
       "      <td>1-Aug-08</td>\n",
       "      <td>12-Dec-16</td>\n",
       "    </tr>\n",
       "    <tr>\n",
       "      <th>519</th>\n",
       "      <td>First Heritage Bank, NA</td>\n",
       "      <td>Newport Beach</td>\n",
       "      <td>CA</td>\n",
       "      <td>57961</td>\n",
       "      <td>Mutual of Omaha Bank</td>\n",
       "      <td>25-Jul-08</td>\n",
       "      <td>12-Sep-16</td>\n",
       "    </tr>\n",
       "    <tr>\n",
       "      <th>520</th>\n",
       "      <td>First National Bank of Nevada</td>\n",
       "      <td>Reno</td>\n",
       "      <td>NV</td>\n",
       "      <td>27011</td>\n",
       "      <td>Mutual of Omaha Bank</td>\n",
       "      <td>25-Jul-08</td>\n",
       "      <td>28-Aug-12</td>\n",
       "    </tr>\n",
       "    <tr>\n",
       "      <th>521</th>\n",
       "      <td>IndyMac Bank</td>\n",
       "      <td>Pasadena</td>\n",
       "      <td>CA</td>\n",
       "      <td>29730</td>\n",
       "      <td>OneWest Bank, FSB</td>\n",
       "      <td>11-Jul-08</td>\n",
       "      <td>22-Apr-15</td>\n",
       "    </tr>\n",
       "    <tr>\n",
       "      <th>522</th>\n",
       "      <td>First Integrity Bank, NA</td>\n",
       "      <td>Staples</td>\n",
       "      <td>MN</td>\n",
       "      <td>12736</td>\n",
       "      <td>First International Bank and Trust</td>\n",
       "      <td>30-May-08</td>\n",
       "      <td>20-Oct-16</td>\n",
       "    </tr>\n",
       "    <tr>\n",
       "      <th>523</th>\n",
       "      <td>ANB Financial, NA</td>\n",
       "      <td>Bentonville</td>\n",
       "      <td>AR</td>\n",
       "      <td>33901</td>\n",
       "      <td>Pulaski Bank and Trust Company</td>\n",
       "      <td>9-May-08</td>\n",
       "      <td>28-Aug-12</td>\n",
       "    </tr>\n",
       "    <tr>\n",
       "      <th>524</th>\n",
       "      <td>Hume Bank</td>\n",
       "      <td>Hume</td>\n",
       "      <td>MO</td>\n",
       "      <td>1971</td>\n",
       "      <td>Security Bank</td>\n",
       "      <td>7-Mar-08</td>\n",
       "      <td>28-Aug-12</td>\n",
       "    </tr>\n",
       "    <tr>\n",
       "      <th>525</th>\n",
       "      <td>Douglass National Bank</td>\n",
       "      <td>Kansas City</td>\n",
       "      <td>MO</td>\n",
       "      <td>24660</td>\n",
       "      <td>Liberty Bank and Trust Company</td>\n",
       "      <td>25-Jan-08</td>\n",
       "      <td>26-Oct-12</td>\n",
       "    </tr>\n",
       "  </tbody>\n",
       "</table>\n",
       "</div>"
      ],
      "text/plain": [
       "                                             Bank Name           City  ST  \\\n",
       "501                               Sanderson State Bank      Sanderson  TX   \n",
       "502                                   Haven Trust Bank         Duluth  GA   \n",
       "503                       First Georgia Community Bank        Jackson  GA   \n",
       "504                                   PFF Bank & Trust         Pomona  CA   \n",
       "505                              Downey Savings & Loan  Newport Beach  CA   \n",
       "506                                     Community Bank     Loganville  GA   \n",
       "507                              Security Pacific Bank    Los Angeles  CA   \n",
       "508                                 Franklin Bank, SSB        Houston  TX   \n",
       "509                                       Freedom Bank      Bradenton  FL   \n",
       "510                                 Alpha Bank & Trust     Alpharetta  GA   \n",
       "511                                      Meridian Bank         Eldred  IL   \n",
       "512                                   Main Street Bank     Northville  MI   \n",
       "513  Washington Mutual Bank (Including its subsidia...      Henderson  NV   \n",
       "514                                          Ameribank      Northfork  WV   \n",
       "515                                  Silver State Bank      Henderson  NV   \n",
       "516                                     Integrity Bank     Alpharetta  GA   \n",
       "517                             Columbian Bank & Trust         Topeka  KS   \n",
       "518                                First Priority Bank      Bradenton  FL   \n",
       "519                            First Heritage Bank, NA  Newport Beach  CA   \n",
       "520                      First National Bank of Nevada           Reno  NV   \n",
       "521                                       IndyMac Bank       Pasadena  CA   \n",
       "522                           First Integrity Bank, NA        Staples  MN   \n",
       "523                                  ANB Financial, NA    Bentonville  AR   \n",
       "524                                          Hume Bank           Hume  MO   \n",
       "525                             Douglass National Bank    Kansas City  MO   \n",
       "\n",
       "      CERT                              Acquiring Institution Closing Date  \\\n",
       "501  11568                        The Pecos County State Bank    12-Dec-08   \n",
       "502  35379             Branch Banking & Trust Company, (BB&T)    12-Dec-08   \n",
       "503  34301                                        United Bank     5-Dec-08   \n",
       "504  28344                                    U.S. Bank, N.A.    21-Nov-08   \n",
       "505  30968                                    U.S. Bank, N.A.    21-Nov-08   \n",
       "506  16490                                      Bank of Essex    21-Nov-08   \n",
       "507  23595                               Pacific Western Bank     7-Nov-08   \n",
       "508  26870                                    Prosperity Bank     7-Nov-08   \n",
       "509  57930                                   Fifth Third Bank    31-Oct-08   \n",
       "510  58241                                 Stearns Bank, N.A.    24-Oct-08   \n",
       "511  13789                                      National Bank    10-Oct-08   \n",
       "512  57654                                Monroe Bank & Trust    10-Oct-08   \n",
       "513  32633                               JP Morgan Chase Bank    25-Sep-08   \n",
       "514   6782  The Citizens Savings Bank, Pioneer Community B...    19-Sep-08   \n",
       "515  34194                                  Nevada State Bank     5-Sep-08   \n",
       "516  35469                                       Regions Bank    29-Aug-08   \n",
       "517  22728                              Citizens Bank & Trust    22-Aug-08   \n",
       "518  57523                                      SunTrust Bank     1-Aug-08   \n",
       "519  57961                               Mutual of Omaha Bank    25-Jul-08   \n",
       "520  27011                               Mutual of Omaha Bank    25-Jul-08   \n",
       "521  29730                                  OneWest Bank, FSB    11-Jul-08   \n",
       "522  12736                 First International Bank and Trust    30-May-08   \n",
       "523  33901                     Pulaski Bank and Trust Company     9-May-08   \n",
       "524   1971                                      Security Bank     7-Mar-08   \n",
       "525  24660                     Liberty Bank and Trust Company    25-Jan-08   \n",
       "\n",
       "    Updated Date  \n",
       "501    25-Oct-13  \n",
       "502    16-Aug-12  \n",
       "503    16-Aug-12  \n",
       "504     4-Jan-13  \n",
       "505     4-Jan-13  \n",
       "506     4-Sep-12  \n",
       "507    28-Aug-12  \n",
       "508    16-Aug-12  \n",
       "509    16-Aug-12  \n",
       "510    16-Aug-12  \n",
       "511    31-May-12  \n",
       "512     1-Aug-13  \n",
       "513     4-Aug-15  \n",
       "514    21-Sep-15  \n",
       "515    25-Oct-13  \n",
       "516    16-Aug-12  \n",
       "517    26-Mar-15  \n",
       "518    12-Dec-16  \n",
       "519    12-Sep-16  \n",
       "520    28-Aug-12  \n",
       "521    22-Apr-15  \n",
       "522    20-Oct-16  \n",
       "523    28-Aug-12  \n",
       "524    28-Aug-12  \n",
       "525    26-Oct-12  "
      ]
     },
     "execution_count": 29,
     "metadata": {},
     "output_type": "execute_result"
    }
   ],
   "source": []
  },
  {
   "cell_type": "markdown",
   "id": "790790fc",
   "metadata": {},
   "source": [
    "##### موفق باشید "
   ]
  },
  {
   "cell_type": "markdown",
   "id": "7e7a8030",
   "metadata": {},
   "source": [
    "##### تمامی حقوق برای رضا علوی محفوظ است"
   ]
  }
 ],
 "metadata": {
  "kernelspec": {
   "display_name": "Python 3 (ipykernel)",
   "language": "python",
   "name": "python3"
  },
  "language_info": {
   "codemirror_mode": {
    "name": "ipython",
    "version": 3
   },
   "file_extension": ".py",
   "mimetype": "text/x-python",
   "name": "python",
   "nbconvert_exporter": "python",
   "pygments_lexer": "ipython3",
   "version": "3.9.7"
  }
 },
 "nbformat": 4,
 "nbformat_minor": 5
}
