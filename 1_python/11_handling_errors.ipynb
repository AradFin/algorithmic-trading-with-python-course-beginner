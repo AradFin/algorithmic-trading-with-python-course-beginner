{
 "cells": [
  {
   "cell_type": "markdown",
   "id": "0854f8a4",
   "metadata": {},
   "source": [
    "## handling errors"
   ]
  },
  {
   "cell_type": "code",
   "execution_count": 4,
   "id": "c36dafcb",
   "metadata": {},
   "outputs": [
    {
     "name": "stdout",
     "output_type": "stream",
     "text": [
      "2.0\n"
     ]
    }
   ],
   "source": [
    "a = 2\n",
    "b = 1\n",
    "print(a / b)"
   ]
  },
  {
   "cell_type": "code",
   "execution_count": 17,
   "id": "a22cd209",
   "metadata": {},
   "outputs": [
    {
     "name": "stdout",
     "output_type": "stream",
     "text": [
      "input i: 4\n",
      "input j: reza\n",
      "Error !\n",
      "finished !\n"
     ]
    }
   ],
   "source": [
    "try:\n",
    "    i = int(input('input i: '))\n",
    "    j = int(input('input j: '))\n",
    "    print('i / j = ', i / j)\n",
    "except ZeroDivisionError:\n",
    "    print('Error ! no zero for j')\n",
    "except:\n",
    "    print('Error !')\n",
    "finally:\n",
    "    print('finished !')"
   ]
  },
  {
   "cell_type": "markdown",
   "id": "60385359",
   "metadata": {},
   "source": [
    "-----------------------------------------------------\n",
    "###### تمامی حقوق برای رضا علوی محفوظ است(2021)\n",
    "###### کپی برداری از نوت بوک با ذکر منبع آزاد است"
   ]
  }
 ],
 "metadata": {
  "kernelspec": {
   "display_name": "Python 3 (ipykernel)",
   "language": "python",
   "name": "python3"
  },
  "language_info": {
   "codemirror_mode": {
    "name": "ipython",
    "version": 3
   },
   "file_extension": ".py",
   "mimetype": "text/x-python",
   "name": "python",
   "nbconvert_exporter": "python",
   "pygments_lexer": "ipython3",
   "version": "3.9.7"
  }
 },
 "nbformat": 4,
 "nbformat_minor": 5
}
