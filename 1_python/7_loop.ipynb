{
 "cells": [
  {
   "cell_type": "markdown",
   "id": "3415f14f",
   "metadata": {},
   "source": [
    "## while & for"
   ]
  },
  {
   "cell_type": "markdown",
   "id": "6e230e78",
   "metadata": {},
   "source": [
    "### while"
   ]
  },
  {
   "cell_type": "code",
   "execution_count": 19,
   "id": "ceca0e6d",
   "metadata": {},
   "outputs": [
    {
     "name": "stdout",
     "output_type": "stream",
     "text": [
      "i =  1\n",
      "i =  2\n",
      "i =  3\n",
      "i =  4\n",
      "i =  5\n",
      "i =  6\n",
      "i =  7\n",
      "i =  8\n",
      "i =  9\n",
      "i =  10\n"
     ]
    }
   ],
   "source": [
    "i = 1\n",
    "while i <= 10:\n",
    "    print('i = ', i)\n",
    "    i += 1"
   ]
  },
  {
   "cell_type": "markdown",
   "id": "50362e2b",
   "metadata": {},
   "source": [
    "### for"
   ]
  },
  {
   "cell_type": "code",
   "execution_count": 21,
   "id": "923badaa",
   "metadata": {},
   "outputs": [
    {
     "name": "stdout",
     "output_type": "stream",
     "text": [
      "i =  1\n",
      "i =  2\n",
      "i =  3\n",
      "i =  4\n",
      "i =  5\n",
      "i =  6\n",
      "i =  7\n",
      "i =  8\n",
      "i =  9\n",
      "i =  10\n"
     ]
    }
   ],
   "source": [
    "l = [1, 2, 3, 4, 5, 6, 7, 8, 9, 10]\n",
    "for i in l:\n",
    "    print('i = ', i)"
   ]
  },
  {
   "cell_type": "code",
   "execution_count": 23,
   "id": "52c60651",
   "metadata": {},
   "outputs": [
    {
     "name": "stdout",
     "output_type": "stream",
     "text": [
      "i =  1\n",
      "i =  2\n",
      "i =  3\n",
      "i =  4\n",
      "i =  5\n",
      "i =  6\n",
      "i =  7\n",
      "i =  8\n",
      "i =  9\n",
      "i =  10\n"
     ]
    }
   ],
   "source": [
    "for i in range(1, 11):\n",
    "    print('i = ', i)"
   ]
  },
  {
   "cell_type": "markdown",
   "id": "ad348a49",
   "metadata": {},
   "source": [
    "### break"
   ]
  },
  {
   "cell_type": "code",
   "execution_count": 26,
   "id": "67b9e838",
   "metadata": {},
   "outputs": [
    {
     "name": "stdout",
     "output_type": "stream",
     "text": [
      "i =  1\n",
      "i =  2\n",
      "i =  3\n",
      "i =  4\n",
      "i =  5\n",
      "i =  6\n",
      "i =  7\n",
      "i =  8\n",
      "i =  9\n",
      "i =  10\n"
     ]
    }
   ],
   "source": [
    "i = 1\n",
    "while True:\n",
    "    if i > 10:\n",
    "        break\n",
    "    print('i = ', i)\n",
    "    i += 1"
   ]
  },
  {
   "cell_type": "markdown",
   "id": "27578585",
   "metadata": {},
   "source": [
    "### continue"
   ]
  },
  {
   "cell_type": "code",
   "execution_count": 28,
   "id": "5a6924d3",
   "metadata": {},
   "outputs": [
    {
     "name": "stdout",
     "output_type": "stream",
     "text": [
      "i =  2\n",
      "i =  4\n",
      "i =  6\n",
      "i =  8\n",
      "i =  10\n"
     ]
    }
   ],
   "source": [
    "#Do not print odd numbers: \n",
    "i = 1\n",
    "while i <= 10:\n",
    "    if i % 2 == 1:    # it is an odd number\n",
    "        i += 1\n",
    "        continue\n",
    "    print('i = ', i)\n",
    "    i += 1"
   ]
  },
  {
   "cell_type": "markdown",
   "id": "7d592ca6",
   "metadata": {},
   "source": [
    "### pass"
   ]
  },
  {
   "cell_type": "code",
   "execution_count": 32,
   "id": "123fbfc2",
   "metadata": {},
   "outputs": [
    {
     "name": "stdout",
     "output_type": "stream",
     "text": [
      "i =  2\n",
      "i =  4\n",
      "i =  6\n",
      "i =  8\n",
      "i =  10\n"
     ]
    }
   ],
   "source": [
    "#Do not print odd numbers: \n",
    "i = 1\n",
    "while i <= 10:\n",
    "    if i % 2 == 1:   # it is an odd number\n",
    "        #print('i = ', i)\n",
    "        pass\n",
    "    else:\n",
    "        print('i = ', i)\n",
    "    i += 1"
   ]
  },
  {
   "cell_type": "markdown",
   "id": "c690dac1",
   "metadata": {},
   "source": [
    "-----------------------------------------------------\n",
    "###### تمامی حقوق برای رضا علوی محفوظ است(2021)\n",
    "###### کپی برداری از نوت بوک با ذکر منبع آزاد است"
   ]
  }
 ],
 "metadata": {
  "kernelspec": {
   "display_name": "Python 3 (ipykernel)",
   "language": "python",
   "name": "python3"
  },
  "language_info": {
   "codemirror_mode": {
    "name": "ipython",
    "version": 3
   },
   "file_extension": ".py",
   "mimetype": "text/x-python",
   "name": "python",
   "nbconvert_exporter": "python",
   "pygments_lexer": "ipython3",
   "version": "3.9.7"
  }
 },
 "nbformat": 4,
 "nbformat_minor": 5
}
