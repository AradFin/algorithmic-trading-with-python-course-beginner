{
 "cells": [
  {
   "cell_type": "markdown",
   "id": "d61db7df",
   "metadata": {},
   "source": [
    "## python exercise"
   ]
  },
  {
   "cell_type": "markdown",
   "id": "bab0b706",
   "metadata": {},
   "source": [
    "##### برنامه ای بنویسید که اعداد اول یک تا صد را چاپ کند\n",
    "###### 2 , 3 , 5 , 7 , 11 , 13 , 17 , ..."
   ]
  },
  {
   "cell_type": "code",
   "execution_count": 1,
   "id": "95be5cf8",
   "metadata": {},
   "outputs": [
    {
     "data": {
      "text/plain": [
       "range(2, 100)"
      ]
     },
     "execution_count": 1,
     "metadata": {},
     "output_type": "execute_result"
    }
   ],
   "source": [
    "l = range(2, 100)\n",
    "l"
   ]
  },
  {
   "cell_type": "code",
   "execution_count": 11,
   "id": "2cea4907",
   "metadata": {},
   "outputs": [],
   "source": [
    "def is_prime(num):\n",
    "    sqrt = round(num ** 0.5) + 1\n",
    "    for j in range(2, sqrt+1):\n",
    "        if num % j == 0 and num > j:\n",
    "            return False\n",
    "    return True"
   ]
  },
  {
   "cell_type": "code",
   "execution_count": 14,
   "id": "4252f242",
   "metadata": {},
   "outputs": [
    {
     "name": "stdout",
     "output_type": "stream",
     "text": [
      "2\n",
      "3\n",
      "5\n",
      "7\n",
      "11\n",
      "13\n",
      "17\n",
      "19\n",
      "23\n",
      "29\n",
      "31\n",
      "37\n",
      "41\n",
      "43\n",
      "47\n",
      "53\n",
      "59\n",
      "61\n",
      "67\n",
      "71\n",
      "73\n",
      "79\n",
      "83\n",
      "89\n",
      "97\n"
     ]
    }
   ],
   "source": [
    "for i in l:\n",
    "    if is_prime(i):\n",
    "        print(i)"
   ]
  },
  {
   "cell_type": "markdown",
   "id": "cdd5187c",
   "metadata": {},
   "source": [
    "##### برنامه ای بنویسید که اعداد فیبوناچی را تا جمله دهم چاپ کند\n",
    "##### راهنمایی : ابتدا تابع بازگشتی فیبوناچی را بنویسید. ورودی شماره جمله و خروجی خود جمله\n",
    "##### 1 , 1 , 2 , 3 , 5 , 8 , 13 , ..."
   ]
  },
  {
   "cell_type": "code",
   "execution_count": 17,
   "id": "a3907b27",
   "metadata": {},
   "outputs": [],
   "source": [
    "def fibo(n):\n",
    "    if n == 1 or n == 2:\n",
    "        return 1\n",
    "    else:\n",
    "        return fibo(n-1) + fibo(n-2)"
   ]
  },
  {
   "cell_type": "code",
   "execution_count": 19,
   "id": "cc304aa2",
   "metadata": {},
   "outputs": [
    {
     "name": "stdout",
     "output_type": "stream",
     "text": [
      "1\n",
      "1\n",
      "2\n",
      "3\n",
      "5\n",
      "8\n",
      "13\n",
      "21\n",
      "34\n",
      "55\n"
     ]
    }
   ],
   "source": [
    "for i in range(1, 11):\n",
    "    print(fibo(i))"
   ]
  },
  {
   "cell_type": "code",
   "execution_count": 20,
   "id": "2d1b6d9d",
   "metadata": {},
   "outputs": [
    {
     "name": "stdout",
     "output_type": "stream",
     "text": [
      "1.0\n",
      "0.5\n",
      "0.6666666666666666\n",
      "0.6\n",
      "0.625\n",
      "0.6153846153846154\n",
      "0.6190476190476191\n",
      "0.6176470588235294\n",
      "0.6181818181818182\n",
      "0.6179775280898876\n",
      "0.6180555555555556\n",
      "0.6180257510729614\n",
      "0.6180371352785146\n",
      "0.6180327868852459\n",
      "0.6180344478216818\n",
      "0.6180338134001252\n",
      "0.6180340557275542\n",
      "0.6180339631667066\n",
      "0.6180339985218034\n"
     ]
    }
   ],
   "source": [
    "# fibo(n) / fibo(n+1) = ?   (n ==> inf)\n",
    "for i in range(1, 20):\n",
    "    print(fibo(i) / fibo(i+1))"
   ]
  },
  {
   "cell_type": "markdown",
   "id": "7bc44ae3",
   "metadata": {},
   "source": [
    "##### :یک چالش \n",
    "##### زمان حال را از سیستم دریافت کنید و سال، ماه، روز، ساعت، دقیقه و ثانیه را به تفکیک نمایش دهید  \n",
    "##### جستجو کنید python datetime attributes\n",
    "##### در ادامه سعی کنید روز چندم در هفته را نمایش دهید\n",
    "##### راهنمایی:\n",
    "###### datetime.weekday()    ==>>    Monday is 0  &  Sunday is 6\n",
    "##### لینکهای مفید:\n",
    "#### https://docs.python.org/3/library/datetime.html\n",
    "#### https://stackoverflow.com/"
   ]
  },
  {
   "cell_type": "code",
   "execution_count": 26,
   "id": "ae1ee2f1",
   "metadata": {},
   "outputs": [
    {
     "name": "stdout",
     "output_type": "stream",
     "text": [
      "2021-12-17 11:55:05.893890\n",
      "2021\n",
      "12\n",
      "17\n",
      "11\n",
      "55\n",
      "5\n"
     ]
    }
   ],
   "source": [
    "from datetime import datetime as dt\n",
    "my_time = dt.now()\n",
    "print(my_time)\n",
    "print(my_time.year)\n",
    "print(my_time.month)\n",
    "print(my_time.day)\n",
    "print(my_time.hour)\n",
    "print(my_time.minute)\n",
    "print(my_time.second)"
   ]
  },
  {
   "cell_type": "code",
   "execution_count": 27,
   "id": "dc59cf4f",
   "metadata": {},
   "outputs": [
    {
     "data": {
      "text/plain": [
       "4"
      ]
     },
     "execution_count": 27,
     "metadata": {},
     "output_type": "execute_result"
    }
   ],
   "source": [
    "my_time.weekday()"
   ]
  },
  {
   "cell_type": "markdown",
   "id": "31b5c9a0",
   "metadata": {},
   "source": [
    "-----------------------------------------------------\n",
    "###### تمامی حقوق برای رضا علوی محفوظ است(2021)\n",
    "###### کپی برداری از نوت بوک با ذکر منبع آزاد است"
   ]
  }
 ],
 "metadata": {
  "kernelspec": {
   "display_name": "Python 3 (ipykernel)",
   "language": "python",
   "name": "python3"
  },
  "language_info": {
   "codemirror_mode": {
    "name": "ipython",
    "version": 3
   },
   "file_extension": ".py",
   "mimetype": "text/x-python",
   "name": "python",
   "nbconvert_exporter": "python",
   "pygments_lexer": "ipython3",
   "version": "3.9.7"
  }
 },
 "nbformat": 4,
 "nbformat_minor": 5
}
