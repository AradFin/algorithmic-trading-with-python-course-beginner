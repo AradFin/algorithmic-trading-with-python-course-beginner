{
 "cells": [
  {
   "cell_type": "markdown",
   "id": "57145c6b",
   "metadata": {},
   "source": [
    "## class"
   ]
  },
  {
   "cell_type": "markdown",
   "id": "2556357e",
   "metadata": {},
   "source": [
    "######  A variable stored in an instance or class is called an <b>attribute<b>.\n",
    "###### A function stored in an instance or class is called a <b>method<b>."
   ]
  },
  {
   "cell_type": "code",
   "execution_count": 5,
   "id": "ecd25ee6",
   "metadata": {},
   "outputs": [],
   "source": [
    "class Symbol:\n",
    "    def __init__(self, name, spread, digits):\n",
    "        self.name = name\n",
    "        self.spread = spread\n",
    "        self.digits = digits\n",
    "        print('Symbol Class created !')\n",
    "    \n",
    "    def print_name(self):\n",
    "        print(self.name)"
   ]
  },
  {
   "cell_type": "code",
   "execution_count": 6,
   "id": "693225f8",
   "metadata": {},
   "outputs": [
    {
     "name": "stdout",
     "output_type": "stream",
     "text": [
      "Symbol Class created !\n"
     ]
    }
   ],
   "source": [
    "s = Symbol(name='EURUSD', spread=1, digits=5)"
   ]
  },
  {
   "cell_type": "code",
   "execution_count": 7,
   "id": "f41c0895",
   "metadata": {},
   "outputs": [
    {
     "data": {
      "text/plain": [
       "'EURUSD'"
      ]
     },
     "execution_count": 7,
     "metadata": {},
     "output_type": "execute_result"
    }
   ],
   "source": [
    "s.name"
   ]
  },
  {
   "cell_type": "code",
   "execution_count": 8,
   "id": "a8343630",
   "metadata": {},
   "outputs": [
    {
     "name": "stdout",
     "output_type": "stream",
     "text": [
      "EURUSD\n"
     ]
    }
   ],
   "source": [
    "s.print_name()"
   ]
  },
  {
   "cell_type": "markdown",
   "id": "6f45f46e",
   "metadata": {},
   "source": [
    "-----------------------------------------------------\n",
    "###### تمامی حقوق برای رضا علوی محفوظ است(2021)\n",
    "###### کپی برداری از نوت بوک با ذکر منبع آزاد است"
   ]
  }
 ],
 "metadata": {
  "kernelspec": {
   "display_name": "Python 3 (ipykernel)",
   "language": "python",
   "name": "python3"
  },
  "language_info": {
   "codemirror_mode": {
    "name": "ipython",
    "version": 3
   },
   "file_extension": ".py",
   "mimetype": "text/x-python",
   "name": "python",
   "nbconvert_exporter": "python",
   "pygments_lexer": "ipython3",
   "version": "3.9.7"
  }
 },
 "nbformat": 4,
 "nbformat_minor": 5
}
