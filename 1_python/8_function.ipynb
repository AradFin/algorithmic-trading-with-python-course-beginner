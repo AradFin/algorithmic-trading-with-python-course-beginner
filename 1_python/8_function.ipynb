{
 "cells": [
  {
   "cell_type": "markdown",
   "id": "3e2f893e",
   "metadata": {},
   "source": [
    "## function"
   ]
  },
  {
   "cell_type": "code",
   "execution_count": 12,
   "id": "7f836488",
   "metadata": {},
   "outputs": [],
   "source": [
    "def times_two(i=5):\n",
    "    print('function executed!')\n",
    "    #print(i * 2)\n",
    "    return i * 2"
   ]
  },
  {
   "cell_type": "code",
   "execution_count": 15,
   "id": "c3b5cd12",
   "metadata": {},
   "outputs": [
    {
     "name": "stdout",
     "output_type": "stream",
     "text": [
      "function executed!\n"
     ]
    },
    {
     "data": {
      "text/plain": [
       "10"
      ]
     },
     "execution_count": 15,
     "metadata": {},
     "output_type": "execute_result"
    }
   ],
   "source": [
    "times_two()"
   ]
  },
  {
   "cell_type": "markdown",
   "id": "64d7963a",
   "metadata": {},
   "source": [
    "## lambda"
   ]
  },
  {
   "cell_type": "code",
   "execution_count": 16,
   "id": "6deb7050",
   "metadata": {},
   "outputs": [],
   "source": [
    "times_two_lambda = lambda i : i*2  # so useful is apply method in pandas"
   ]
  },
  {
   "cell_type": "code",
   "execution_count": 17,
   "id": "b8ff0033",
   "metadata": {},
   "outputs": [
    {
     "data": {
      "text/plain": [
       "10"
      ]
     },
     "execution_count": 17,
     "metadata": {},
     "output_type": "execute_result"
    }
   ],
   "source": [
    "times_two_lambda(5)"
   ]
  },
  {
   "cell_type": "markdown",
   "id": "56357967",
   "metadata": {},
   "source": [
    "## map"
   ]
  },
  {
   "cell_type": "code",
   "execution_count": 19,
   "id": "8142dea0",
   "metadata": {},
   "outputs": [
    {
     "data": {
      "text/plain": [
       "[2, 4, 6, 8]"
      ]
     },
     "execution_count": 19,
     "metadata": {},
     "output_type": "execute_result"
    }
   ],
   "source": [
    "l = [1, 2, 3, 4]\n",
    "list(map(times_two_lambda, l))"
   ]
  },
  {
   "cell_type": "code",
   "execution_count": 21,
   "id": "bbc74125",
   "metadata": {},
   "outputs": [
    {
     "name": "stdout",
     "output_type": "stream",
     "text": [
      "function executed!\n",
      "function executed!\n",
      "function executed!\n",
      "function executed!\n"
     ]
    },
    {
     "data": {
      "text/plain": [
       "[2, 4, 6, 8]"
      ]
     },
     "execution_count": 21,
     "metadata": {},
     "output_type": "execute_result"
    }
   ],
   "source": [
    "l = [1, 2, 3, 4]\n",
    "list(map(times_two, l))"
   ]
  },
  {
   "cell_type": "code",
   "execution_count": 24,
   "id": "86c02172",
   "metadata": {},
   "outputs": [
    {
     "data": {
      "text/plain": [
       "[2, 4, 6, 8]"
      ]
     },
     "execution_count": 24,
     "metadata": {},
     "output_type": "execute_result"
    }
   ],
   "source": [
    "l = [1, 2, 3, 4]\n",
    "list(map(lambda i : i*2, l))"
   ]
  },
  {
   "cell_type": "markdown",
   "id": "ec5616c0",
   "metadata": {},
   "source": [
    "## filter"
   ]
  },
  {
   "cell_type": "code",
   "execution_count": 25,
   "id": "ae83b053",
   "metadata": {},
   "outputs": [
    {
     "data": {
      "text/plain": [
       "[2, 4]"
      ]
     },
     "execution_count": 25,
     "metadata": {},
     "output_type": "execute_result"
    }
   ],
   "source": [
    "# just return even numbers:\n",
    "l = [1, 2, 3, 4]\n",
    "list(filter(lambda i : i % 2 == 0 , l))"
   ]
  },
  {
   "cell_type": "markdown",
   "id": "6ff45c0e",
   "metadata": {},
   "source": [
    "-----------------------------------------------------\n",
    "###### تمامی حقوق برای رضا علوی محفوظ است(2021)\n",
    "###### کپی برداری از نوت بوک با ذکر منبع آزاد است"
   ]
  }
 ],
 "metadata": {
  "kernelspec": {
   "display_name": "Python 3 (ipykernel)",
   "language": "python",
   "name": "python3"
  },
  "language_info": {
   "codemirror_mode": {
    "name": "ipython",
    "version": 3
   },
   "file_extension": ".py",
   "mimetype": "text/x-python",
   "name": "python",
   "nbconvert_exporter": "python",
   "pygments_lexer": "ipython3",
   "version": "3.9.7"
  }
 },
 "nbformat": 4,
 "nbformat_minor": 5
}
