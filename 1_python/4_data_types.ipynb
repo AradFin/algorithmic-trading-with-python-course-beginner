{
 "cells": [
  {
   "cell_type": "markdown",
   "id": "2edcfbc1",
   "metadata": {},
   "source": [
    "# Data types\n",
    "##### انواع داده ها در پایتون"
   ]
  },
  {
   "cell_type": "markdown",
   "id": "5a7e1355",
   "metadata": {},
   "source": [
    "-----------------------------\n",
    "## Int type\n",
    "##### اعداد صحیح"
   ]
  },
  {
   "cell_type": "code",
   "execution_count": 5,
   "id": "4dd722f8",
   "metadata": {},
   "outputs": [
    {
     "name": "stdout",
     "output_type": "stream",
     "text": [
      "<class 'int'>\n",
      "j =  8\n"
     ]
    }
   ],
   "source": [
    "i = 2\n",
    "print(type(i))\n",
    "# comment\n",
    "# عملگرهای پایتون : + - / * **\n",
    "j = i ** 3\n",
    "print('j = ', j)"
   ]
  },
  {
   "cell_type": "markdown",
   "id": "a82dc949",
   "metadata": {},
   "source": [
    "--------------------------\n",
    "## Float type\n",
    "##### اعداد اعشاری"
   ]
  },
  {
   "cell_type": "code",
   "execution_count": 9,
   "id": "f7f1cfed",
   "metadata": {},
   "outputs": [
    {
     "name": "stdout",
     "output_type": "stream",
     "text": [
      "<class 'float'>\n"
     ]
    },
    {
     "data": {
      "text/plain": [
       "3.1"
      ]
     },
     "execution_count": 9,
     "metadata": {},
     "output_type": "execute_result"
    }
   ],
   "source": [
    "f = 3.14\n",
    "print(type(f))\n",
    "round(f, 1)"
   ]
  },
  {
   "cell_type": "markdown",
   "id": "ac8c305f",
   "metadata": {},
   "source": [
    "---------------------------------------\n",
    "## Boolean type\n",
    "##### متغیر منطقی"
   ]
  },
  {
   "cell_type": "code",
   "execution_count": 11,
   "id": "93a71311",
   "metadata": {},
   "outputs": [
    {
     "name": "stdout",
     "output_type": "stream",
     "text": [
      "<class 'bool'>\n"
     ]
    },
    {
     "data": {
      "text/plain": [
       "False"
      ]
     },
     "execution_count": 11,
     "metadata": {},
     "output_type": "execute_result"
    }
   ],
   "source": [
    "b = True\n",
    "print(type(b))\n",
    "b2 = not b\n",
    "b2"
   ]
  },
  {
   "cell_type": "markdown",
   "id": "833f01c0",
   "metadata": {},
   "source": [
    "-------------------\n",
    "## String Type\n",
    "##### رشته ها"
   ]
  },
  {
   "cell_type": "code",
   "execution_count": 19,
   "id": "1fca8a89",
   "metadata": {},
   "outputs": [
    {
     "name": "stdout",
     "output_type": "stream",
     "text": [
      "<class 'str'>\n",
      "I am Reza and I am teaching python\n",
      "I am Reza and I am teaching python\n",
      "I am Reza and I am teaching python\n",
      "['I', 'am', 'Reza', 'and', 'I', 'am', 'teaching', 'python']\n",
      "['Reza', 'python']\n"
     ]
    }
   ],
   "source": [
    "s = 'Reza' # ==> \"Reza\"\n",
    "print(type(s))\n",
    "p = 'python'\n",
    "c = 'I am Reza and I am teaching python'\n",
    "print(c)\n",
    "\n",
    "c2 = 'I am {} and I am teaching {}'.format(s ,p)\n",
    "print(c2)\n",
    "\n",
    "c3 = 'I am {x} and I am teaching {y}'.format(x=s ,y=p)\n",
    "print(c3)\n",
    "\n",
    "print(c.split())\n",
    "\n",
    "c4 = 'Reza,python'\n",
    "print(c4.split(','))\n"
   ]
  },
  {
   "cell_type": "code",
   "execution_count": 27,
   "id": "6a71147f",
   "metadata": {},
   "outputs": [
    {
     "name": "stdout",
     "output_type": "stream",
     "text": [
      "I am Reza and I am teaching python\n",
      "i am reza and i am teaching python\n",
      "I AM REZA AND I AM TEACHING PYTHON\n"
     ]
    },
    {
     "data": {
      "text/plain": [
       "1"
      ]
     },
     "execution_count": 27,
     "metadata": {},
     "output_type": "execute_result"
    }
   ],
   "source": [
    "print(c)\n",
    "print(c.lower())\n",
    "print(c.upper())\n",
    "\n",
    "c.count('Reza')"
   ]
  },
  {
   "cell_type": "markdown",
   "id": "412b8721",
   "metadata": {},
   "source": [
    "-------------------------------------------------------\n",
    "### list, dict, tupple, set\n",
    "###### در قسمت بعد مشاهده میکنیم"
   ]
  },
  {
   "cell_type": "markdown",
   "id": "71c1e6ea",
   "metadata": {},
   "source": [
    "-----------------------------------------------------\n",
    "###### تمامی حقوق برای رضا علوی محفوظ است(2021)\n",
    "###### کپی برداری با ذکر منبع آزاد است"
   ]
  }
 ],
 "metadata": {
  "kernelspec": {
   "display_name": "Python 3 (ipykernel)",
   "language": "python",
   "name": "python3"
  },
  "language_info": {
   "codemirror_mode": {
    "name": "ipython",
    "version": 3
   },
   "file_extension": ".py",
   "mimetype": "text/x-python",
   "name": "python",
   "nbconvert_exporter": "python",
   "pygments_lexer": "ipython3",
   "version": "3.9.7"
  }
 },
 "nbformat": 4,
 "nbformat_minor": 5
}
