{
 "cells": [
  {
   "cell_type": "markdown",
   "id": "deb88068",
   "metadata": {},
   "source": [
    "# List, Tuple, Dict, Set"
   ]
  },
  {
   "cell_type": "markdown",
   "id": "c3a4d6cd",
   "metadata": {},
   "source": [
    "## list\n",
    "###### Hint : A method is a function defined in the class. An attribute is an instance variable defined in the class."
   ]
  },
  {
   "cell_type": "code",
   "execution_count": 5,
   "id": "d2cbfdf0",
   "metadata": {},
   "outputs": [
    {
     "name": "stdout",
     "output_type": "stream",
     "text": [
      "[0, 1, 2, 3, 'Reza']\n",
      "<class 'list'>\n"
     ]
    }
   ],
   "source": [
    "#Define\n",
    "l = [0, 1, 2, 3, 'Reza']\n",
    "print(l)\n",
    "print(type(l))"
   ]
  },
  {
   "cell_type": "code",
   "execution_count": 13,
   "id": "b9009ba6",
   "metadata": {},
   "outputs": [
    {
     "name": "stdout",
     "output_type": "stream",
     "text": [
      "[0, 1, 2, 3]\n",
      "0\n",
      "3\n",
      "3\n",
      "[1000, 1, 2, 3]\n",
      "[1000, 1, 2, [10, 20, 30]]\n"
     ]
    },
    {
     "data": {
      "text/plain": [
       "10"
      ]
     },
     "execution_count": 13,
     "metadata": {},
     "output_type": "execute_result"
    }
   ],
   "source": [
    "#Indexing\n",
    "l = [0, 1, 2, 3]\n",
    "print(l)\n",
    "print(l[0])\n",
    "print(l[3])\n",
    "print(l[-1])\n",
    "\n",
    "l[0] = 1000\n",
    "print(l)\n",
    "\n",
    "l2 = [10, 20, 30]\n",
    "l[-1] = l2\n",
    "print(l)\n",
    "\n",
    "# خانه صفرم لیست داخل لیست\n",
    "l[-1][0]"
   ]
  },
  {
   "cell_type": "code",
   "execution_count": 16,
   "id": "5afdadf9",
   "metadata": {},
   "outputs": [
    {
     "name": "stdout",
     "output_type": "stream",
     "text": [
      "[0, 1, 2, 3]\n",
      "[0, 1, 2, 3, 4]\n"
     ]
    }
   ],
   "source": [
    "#append\n",
    "l = [0, 1, 2, 3]\n",
    "print(l)\n",
    "\n",
    "l.append(4)\n",
    "print(l)"
   ]
  },
  {
   "cell_type": "code",
   "execution_count": 18,
   "id": "84b93d8a",
   "metadata": {},
   "outputs": [
    {
     "name": "stdout",
     "output_type": "stream",
     "text": [
      "[0, 1, 2, 3]\n",
      "4\n"
     ]
    }
   ],
   "source": [
    "#len\n",
    "l = [0, 1, 2, 3]\n",
    "print(l)\n",
    "print(len(l))"
   ]
  },
  {
   "cell_type": "code",
   "execution_count": 20,
   "id": "35ea74a0",
   "metadata": {},
   "outputs": [
    {
     "name": "stdout",
     "output_type": "stream",
     "text": [
      "[0, 1, 2, 3]\n",
      "[0, 1, 2]\n",
      "[1, 2]\n"
     ]
    }
   ],
   "source": [
    "#pop\n",
    "l = [0, 1, 2, 3]\n",
    "print(l)\n",
    "l.pop()\n",
    "print(l)\n",
    "\n",
    "l.pop(0)\n",
    "print(l)"
   ]
  },
  {
   "cell_type": "code",
   "execution_count": 22,
   "id": "7e680c23",
   "metadata": {},
   "outputs": [
    {
     "name": "stdout",
     "output_type": "stream",
     "text": [
      "[0, 1, 2, 3]\n"
     ]
    },
    {
     "data": {
      "text/plain": [
       "6"
      ]
     },
     "execution_count": 22,
     "metadata": {},
     "output_type": "execute_result"
    }
   ],
   "source": [
    "#sum\n",
    "l = [0, 1, 2, 3]\n",
    "print(l)\n",
    "\n",
    "sum(l)"
   ]
  },
  {
   "cell_type": "code",
   "execution_count": 23,
   "id": "9e90a548",
   "metadata": {},
   "outputs": [
    {
     "name": "stdout",
     "output_type": "stream",
     "text": [
      "[0, 1, 2, 3]\n",
      "Max: 3\n",
      "Min: 0\n"
     ]
    }
   ],
   "source": [
    "#max & min\n",
    "l = [0, 1, 2, 3]\n",
    "print(l)\n",
    "\n",
    "print('Max:', max(l))\n",
    "print('Min:', min(l))"
   ]
  },
  {
   "cell_type": "code",
   "execution_count": 30,
   "id": "721819fd",
   "metadata": {},
   "outputs": [
    {
     "name": "stdout",
     "output_type": "stream",
     "text": [
      "[0, 1, 2, 3]\n"
     ]
    },
    {
     "data": {
      "text/plain": [
       "False"
      ]
     },
     "execution_count": 30,
     "metadata": {},
     "output_type": "execute_result"
    }
   ],
   "source": [
    "#in\n",
    "l = [0, 1, 2, 3]\n",
    "print(l)\n",
    "t = 0 in l\n",
    "print(t)\n",
    "# صفر توی لیست هست\n",
    "t = 8 in l\n",
    "print(t)\n",
    "# هشت توی لیست نیست"
   ]
  },
  {
   "cell_type": "markdown",
   "id": "afc03ba2",
   "metadata": {},
   "source": [
    "## tupple"
   ]
  },
  {
   "cell_type": "code",
   "execution_count": 33,
   "id": "784caa5a",
   "metadata": {},
   "outputs": [
    {
     "name": "stdout",
     "output_type": "stream",
     "text": [
      "(0, 1, 2, 3)\n",
      "<class 'tuple'>\n"
     ]
    },
    {
     "data": {
      "text/plain": [
       "3"
      ]
     },
     "execution_count": 33,
     "metadata": {},
     "output_type": "execute_result"
    }
   ],
   "source": [
    "#Define\n",
    "t = (0, 1, 2, 3)\n",
    "print(t)\n",
    "print(type(t))\n",
    "t[-1]"
   ]
  },
  {
   "cell_type": "code",
   "execution_count": 34,
   "id": "72d0b789",
   "metadata": {},
   "outputs": [
    {
     "ename": "TypeError",
     "evalue": "'tuple' object does not support item assignment",
     "output_type": "error",
     "traceback": [
      "\u001b[1;31m---------------------------------------------------------------------------\u001b[0m",
      "\u001b[1;31mTypeError\u001b[0m                                 Traceback (most recent call last)",
      "\u001b[1;32m~\\AppData\\Local\\Temp/ipykernel_9316/4146699427.py\u001b[0m in \u001b[0;36m<module>\u001b[1;34m\u001b[0m\n\u001b[0;32m      1\u001b[0m \u001b[1;31m#Item Asignment error!\u001b[0m\u001b[1;33m\u001b[0m\u001b[1;33m\u001b[0m\u001b[0m\n\u001b[1;32m----> 2\u001b[1;33m \u001b[0mt\u001b[0m\u001b[1;33m[\u001b[0m\u001b[1;36m0\u001b[0m\u001b[1;33m]\u001b[0m \u001b[1;33m=\u001b[0m \u001b[1;36m1000\u001b[0m\u001b[1;33m\u001b[0m\u001b[1;33m\u001b[0m\u001b[0m\n\u001b[0m",
      "\u001b[1;31mTypeError\u001b[0m: 'tuple' object does not support item assignment"
     ]
    }
   ],
   "source": [
    "#Item Asignment error!\n",
    "t[0] = 1000"
   ]
  },
  {
   "cell_type": "markdown",
   "id": "6e43aefa",
   "metadata": {},
   "source": [
    "## dict"
   ]
  },
  {
   "cell_type": "code",
   "execution_count": 35,
   "id": "53c3c15e",
   "metadata": {},
   "outputs": [
    {
     "name": "stdout",
     "output_type": "stream",
     "text": [
      "{'Reza': 2, 'Ahmad': 5, 'Zahra': 1}\n",
      "<class 'dict'>\n"
     ]
    }
   ],
   "source": [
    "#Define\n",
    "d = {'Reza': 2, 'Ahmad':5, 'Zahra':1}\n",
    "print(d)\n",
    "print(type(d))"
   ]
  },
  {
   "cell_type": "code",
   "execution_count": 36,
   "id": "2f9275ce",
   "metadata": {},
   "outputs": [
    {
     "data": {
      "text/plain": [
       "dict_keys(['Reza', 'Ahmad', 'Zahra'])"
      ]
     },
     "execution_count": 36,
     "metadata": {},
     "output_type": "execute_result"
    }
   ],
   "source": [
    "#keys\n",
    "d.keys()"
   ]
  },
  {
   "cell_type": "code",
   "execution_count": 38,
   "id": "1178a1fc",
   "metadata": {},
   "outputs": [
    {
     "data": {
      "text/plain": [
       "dict_items([('Reza', 2), ('Ahmad', 5), ('Zahra', 1)])"
      ]
     },
     "execution_count": 38,
     "metadata": {},
     "output_type": "execute_result"
    }
   ],
   "source": [
    "#items\n",
    "d.items()"
   ]
  },
  {
   "cell_type": "code",
   "execution_count": 39,
   "id": "e9e540c2",
   "metadata": {},
   "outputs": [
    {
     "data": {
      "text/plain": [
       "2"
      ]
     },
     "execution_count": 39,
     "metadata": {},
     "output_type": "execute_result"
    }
   ],
   "source": [
    "#Indexing\n",
    "d['Reza']"
   ]
  },
  {
   "cell_type": "markdown",
   "id": "c8ba346c",
   "metadata": {},
   "source": [
    "## set"
   ]
  },
  {
   "cell_type": "code",
   "execution_count": 41,
   "id": "76efb3ad",
   "metadata": {},
   "outputs": [
    {
     "name": "stdout",
     "output_type": "stream",
     "text": [
      "{0, 1, 2, 3}\n",
      "<class 'set'>\n"
     ]
    }
   ],
   "source": [
    "#Define\n",
    "s = {0, 1, 2, 3, 3}\n",
    "print(s)\n",
    "print(type(s))"
   ]
  },
  {
   "cell_type": "code",
   "execution_count": 42,
   "id": "a26d0bea",
   "metadata": {},
   "outputs": [
    {
     "ename": "TypeError",
     "evalue": "'set' object is not subscriptable",
     "output_type": "error",
     "traceback": [
      "\u001b[1;31m---------------------------------------------------------------------------\u001b[0m",
      "\u001b[1;31mTypeError\u001b[0m                                 Traceback (most recent call last)",
      "\u001b[1;32m~\\AppData\\Local\\Temp/ipykernel_9316/3977921313.py\u001b[0m in \u001b[0;36m<module>\u001b[1;34m\u001b[0m\n\u001b[0;32m      1\u001b[0m \u001b[1;31m#No indexing!\u001b[0m\u001b[1;33m\u001b[0m\u001b[1;33m\u001b[0m\u001b[0m\n\u001b[1;32m----> 2\u001b[1;33m \u001b[0ms\u001b[0m\u001b[1;33m[\u001b[0m\u001b[1;36m0\u001b[0m\u001b[1;33m]\u001b[0m\u001b[1;33m\u001b[0m\u001b[1;33m\u001b[0m\u001b[0m\n\u001b[0m",
      "\u001b[1;31mTypeError\u001b[0m: 'set' object is not subscriptable"
     ]
    }
   ],
   "source": [
    "#No indexing!\n",
    "s[0]"
   ]
  },
  {
   "cell_type": "markdown",
   "id": "0db81a86",
   "metadata": {},
   "source": [
    "## Range"
   ]
  },
  {
   "cell_type": "code",
   "execution_count": 45,
   "id": "ef6f67e6",
   "metadata": {},
   "outputs": [
    {
     "name": "stdout",
     "output_type": "stream",
     "text": [
      "range(0, 10)\n",
      "0\n",
      "9\n",
      "10\n"
     ]
    }
   ],
   "source": [
    "#Define\n",
    "r = range(10)\n",
    "print(r)\n",
    "print(r[0])\n",
    "print(r[-1])\n",
    "print(len(r))"
   ]
  },
  {
   "cell_type": "code",
   "execution_count": 49,
   "id": "233f567b",
   "metadata": {},
   "outputs": [
    {
     "name": "stdout",
     "output_type": "stream",
     "text": [
      "range(1, 10)\n",
      "1\n",
      "9\n",
      "9\n"
     ]
    }
   ],
   "source": [
    "#Define with starting point\n",
    "r = range(1, 10)\n",
    "print(r)\n",
    "print(r[0])\n",
    "print(r[-1])\n",
    "print(len(r))"
   ]
  },
  {
   "cell_type": "code",
   "execution_count": 59,
   "id": "d04bad23",
   "metadata": {},
   "outputs": [
    {
     "name": "stdout",
     "output_type": "stream",
     "text": [
      "range(1, 10)\n",
      "1\n",
      "9\n",
      "9\n"
     ]
    }
   ],
   "source": [
    "#Define with var intervals\n",
    "r = range(1, 10, 1)\n",
    "print(r)\n",
    "print(r[0])\n",
    "print(r[-1])\n",
    "print(len(r))"
   ]
  },
  {
   "cell_type": "code",
   "execution_count": 64,
   "id": "97f0f713",
   "metadata": {},
   "outputs": [
    {
     "data": {
      "text/plain": [
       "range(1, 6)"
      ]
     },
     "execution_count": 64,
     "metadata": {},
     "output_type": "execute_result"
    }
   ],
   "source": [
    "r[0:5]"
   ]
  },
  {
   "cell_type": "markdown",
   "id": "a7fd5b13",
   "metadata": {},
   "source": [
    "-----------------------------------------------------\n",
    "###### تمامی حقوق برای رضا علوی محفوظ است(2021)\n",
    "###### کپی برداری با ذکر منبع آزاد است"
   ]
  }
 ],
 "metadata": {
  "kernelspec": {
   "display_name": "Python 3 (ipykernel)",
   "language": "python",
   "name": "python3"
  },
  "language_info": {
   "codemirror_mode": {
    "name": "ipython",
    "version": 3
   },
   "file_extension": ".py",
   "mimetype": "text/x-python",
   "name": "python",
   "nbconvert_exporter": "python",
   "pygments_lexer": "ipython3",
   "version": "3.9.7"
  }
 },
 "nbformat": 4,
 "nbformat_minor": 5
}
