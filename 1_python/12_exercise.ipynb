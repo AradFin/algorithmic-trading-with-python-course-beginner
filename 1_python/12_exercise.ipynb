{
 "cells": [
  {
   "cell_type": "markdown",
   "id": "d61db7df",
   "metadata": {},
   "source": [
    "# python exercise"
   ]
  },
  {
   "cell_type": "markdown",
   "id": "bab0b706",
   "metadata": {},
   "source": [
    "##### برنامه ای بنویسید که اعداد اول یک تا صد را چاپ کند\n",
    "###### 2 , 3 , 5 , 7 , 11 , 13 , 17 , ..."
   ]
  },
  {
   "cell_type": "code",
   "execution_count": null,
   "id": "95be5cf8",
   "metadata": {},
   "outputs": [],
   "source": []
  },
  {
   "cell_type": "markdown",
   "id": "cdd5187c",
   "metadata": {},
   "source": [
    "##### برنامه ای بنویسید که اعداد فیبوناچی را تا جمله دهم چاپ کند\n",
    "##### راهنمایی : ابتدا تابع بازگشتی فیبوناچی را بنویسید. ورودی شماره جمله و خروجی خود جمله\n",
    "##### 1 , 1 , 2 , 3 , 5 , 8 , 13 , ..."
   ]
  },
  {
   "cell_type": "code",
   "execution_count": null,
   "id": "a3907b27",
   "metadata": {},
   "outputs": [],
   "source": []
  },
  {
   "cell_type": "markdown",
   "id": "7bc44ae3",
   "metadata": {},
   "source": [
    "##### :یک چالش \n",
    "##### زمان حال را از سیستم دریافت کنید و سال، ماه، روز، ساعت، دقیقه و ثانیه را به تفکیک نمایش دهید  \n",
    "##### جستجو کنید python datetime attributes\n",
    "##### در ادامه سعی کنید روز چندم در هفته را نمایش دهید\n",
    "##### راهنمایی:\n",
    "###### datetime.weekday()    ==>>    Monday is 0  &  Sunday is 6\n",
    "##### لینکهای مفید:\n",
    "#### https://docs.python.org/3/library/datetime.html\n",
    "#### https://stackoverflow.com/"
   ]
  },
  {
   "cell_type": "code",
   "execution_count": null,
   "id": "ae1ee2f1",
   "metadata": {},
   "outputs": [],
   "source": []
  },
  {
   "cell_type": "markdown",
   "id": "31b5c9a0",
   "metadata": {},
   "source": [
    "-----------------------------------------------------\n",
    "###### تمامی حقوق برای رضا علوی محفوظ است(2021)\n",
    "###### کپی برداری از نوت بوک با ذکر منبع آزاد است"
   ]
  }
 ],
 "metadata": {
  "kernelspec": {
   "display_name": "Python 3 (ipykernel)",
   "language": "python",
   "name": "python3"
  },
  "language_info": {
   "codemirror_mode": {
    "name": "ipython",
    "version": 3
   },
   "file_extension": ".py",
   "mimetype": "text/x-python",
   "name": "python",
   "nbconvert_exporter": "python",
   "pygments_lexer": "ipython3",
   "version": "3.9.7"
  }
 },
 "nbformat": 4,
 "nbformat_minor": 5
}
