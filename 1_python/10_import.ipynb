{
 "cells": [
  {
   "cell_type": "markdown",
   "id": "0c2d84d3",
   "metadata": {},
   "source": [
    "## import"
   ]
  },
  {
   "cell_type": "code",
   "execution_count": 2,
   "id": "5ea4b80b",
   "metadata": {},
   "outputs": [
    {
     "data": {
      "text/plain": [
       "datetime.datetime(2021, 12, 13, 14, 24, 41, 858178)"
      ]
     },
     "execution_count": 2,
     "metadata": {},
     "output_type": "execute_result"
    }
   ],
   "source": [
    "import datetime\n",
    "datetime.datetime.now()"
   ]
  },
  {
   "cell_type": "code",
   "execution_count": 4,
   "id": "6cd4b1ca",
   "metadata": {},
   "outputs": [
    {
     "data": {
      "text/plain": [
       "datetime.datetime(2021, 12, 13, 14, 25, 13, 962423)"
      ]
     },
     "execution_count": 4,
     "metadata": {},
     "output_type": "execute_result"
    }
   ],
   "source": [
    "from datetime import datetime\n",
    "datetime.now()"
   ]
  },
  {
   "cell_type": "code",
   "execution_count": 6,
   "id": "147ad0f6",
   "metadata": {},
   "outputs": [
    {
     "data": {
      "text/plain": [
       "datetime.datetime(2021, 12, 13, 14, 26, 6, 957498)"
      ]
     },
     "execution_count": 6,
     "metadata": {},
     "output_type": "execute_result"
    }
   ],
   "source": [
    "from datetime import datetime as dt\n",
    "dt.now()"
   ]
  },
  {
   "cell_type": "code",
   "execution_count": 9,
   "id": "660b7e4e",
   "metadata": {},
   "outputs": [],
   "source": [
    "# import from file\n",
    "from module_1 import *"
   ]
  },
  {
   "cell_type": "code",
   "execution_count": 12,
   "id": "bf09f5bc",
   "metadata": {},
   "outputs": [
    {
     "name": "stdout",
     "output_type": "stream",
     "text": [
      "Symbol Class created !\n",
      "EURUSD\n"
     ]
    }
   ],
   "source": [
    "s = Symbol(name='EURUSD', spread=1, digits=5)\n",
    "s.print_name()"
   ]
  },
  {
   "cell_type": "code",
   "execution_count": 14,
   "id": "0196f378",
   "metadata": {},
   "outputs": [
    {
     "name": "stdout",
     "output_type": "stream",
     "text": [
      "Symbol Class created !\n",
      "EURUSD\n"
     ]
    }
   ],
   "source": [
    "from module_1 import Symbol\n",
    "s = Symbol(name='EURUSD', spread=1, digits=5)\n",
    "s.print_name()"
   ]
  },
  {
   "cell_type": "code",
   "execution_count": 15,
   "id": "a385ad91",
   "metadata": {},
   "outputs": [
    {
     "name": "stdout",
     "output_type": "stream",
     "text": [
      "Symbol Class created !\n",
      "EURUSD\n"
     ]
    }
   ],
   "source": [
    "from module_1 import Symbol as SS\n",
    "s = SS(name='EURUSD', spread=1, digits=5)\n",
    "s.print_name()"
   ]
  },
  {
   "cell_type": "markdown",
   "id": "cb2b4743",
   "metadata": {},
   "source": [
    "-----------------------------------------------------\n",
    "###### تمامی حقوق برای رضا علوی محفوظ است(2021)\n",
    "###### کپی برداری از نوت بوک با ذکر منبع آزاد است"
   ]
  }
 ],
 "metadata": {
  "kernelspec": {
   "display_name": "Python 3 (ipykernel)",
   "language": "python",
   "name": "python3"
  },
  "language_info": {
   "codemirror_mode": {
    "name": "ipython",
    "version": 3
   },
   "file_extension": ".py",
   "mimetype": "text/x-python",
   "name": "python",
   "nbconvert_exporter": "python",
   "pygments_lexer": "ipython3",
   "version": "3.9.7"
  }
 },
 "nbformat": 4,
 "nbformat_minor": 5
}
