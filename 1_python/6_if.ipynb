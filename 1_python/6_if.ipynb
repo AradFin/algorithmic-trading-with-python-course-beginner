{
 "cells": [
  {
   "cell_type": "markdown",
   "id": "89e2cf26",
   "metadata": {},
   "source": [
    "# if , else , elif"
   ]
  },
  {
   "cell_type": "code",
   "execution_count": 15,
   "id": "d8ff99c9",
   "metadata": {},
   "outputs": [
    {
     "name": "stdout",
     "output_type": "stream",
     "text": [
      "nothing\n"
     ]
    }
   ],
   "source": [
    "# شرطها میتوانند مقدار درست یا نادرست را داشته باشند\n",
    "a = False\n",
    "b = False\n",
    "if a:\n",
    "    print('a is True')\n",
    "elif b:\n",
    "    print('b is True')\n",
    "else:\n",
    "    print('nothing')"
   ]
  },
  {
   "cell_type": "markdown",
   "id": "4a27e0e2",
   "metadata": {},
   "source": [
    "## and , or , not"
   ]
  },
  {
   "cell_type": "code",
   "execution_count": 17,
   "id": "33faa3b5",
   "metadata": {},
   "outputs": [
    {
     "name": "stdout",
     "output_type": "stream",
     "text": [
      "a and b is False\n",
      "a or b is True\n",
      "not(a) is False\n"
     ]
    }
   ],
   "source": [
    "a = True\n",
    "b = False\n",
    "if a and b:\n",
    "    print('a and b is True')\n",
    "else:\n",
    "    print('a and b is False')\n",
    "    \n",
    "if a or b:\n",
    "    print('a or b is True')\n",
    "else:\n",
    "    print('a or b is False')\n",
    "    \n",
    "if not a:\n",
    "    print('not(a) is True')\n",
    "else:\n",
    "    print('not(a) is False')"
   ]
  },
  {
   "cell_type": "markdown",
   "id": "eb445736",
   "metadata": {},
   "source": [
    "## < , == , >  "
   ]
  },
  {
   "cell_type": "code",
   "execution_count": 19,
   "id": "50e8fb9f",
   "metadata": {},
   "outputs": [
    {
     "name": "stdout",
     "output_type": "stream",
     "text": [
      "It is False\n"
     ]
    }
   ],
   "source": [
    "if 1 > 2:       # < > == != <= >=\n",
    "    print('It is True')\n",
    "else:\n",
    "    print('It is False')"
   ]
  },
  {
   "cell_type": "code",
   "execution_count": 21,
   "id": "49078661",
   "metadata": {},
   "outputs": [
    {
     "name": "stdout",
     "output_type": "stream",
     "text": [
      "It is True\n"
     ]
    }
   ],
   "source": [
    "if 1 < 2:\n",
    "    print('It is True')\n",
    "else:\n",
    "    print('It is False')"
   ]
  },
  {
   "cell_type": "code",
   "execution_count": 22,
   "id": "4cfd6687",
   "metadata": {},
   "outputs": [
    {
     "name": "stdout",
     "output_type": "stream",
     "text": [
      "It is True\n"
     ]
    }
   ],
   "source": [
    "if 1 == 1:\n",
    "    print('It is True')\n",
    "else:\n",
    "    print('It is False')"
   ]
  },
  {
   "cell_type": "markdown",
   "id": "ed7e3f7c",
   "metadata": {},
   "source": [
    "## is"
   ]
  },
  {
   "cell_type": "code",
   "execution_count": 26,
   "id": "1378667b",
   "metadata": {},
   "outputs": [
    {
     "name": "stdout",
     "output_type": "stream",
     "text": [
      "<class 'float'>\n",
      "a == 1 is True\n"
     ]
    }
   ],
   "source": [
    "a = 1.0\n",
    "print(type(a))\n",
    "if a == 1:\n",
    "    print('a == 1 is True')\n",
    "else:\n",
    "    print('a == 1 is False')"
   ]
  },
  {
   "cell_type": "code",
   "execution_count": 27,
   "id": "bd18b68d",
   "metadata": {},
   "outputs": [
    {
     "name": "stdout",
     "output_type": "stream",
     "text": [
      "<class 'float'>\n",
      "(a is 1) is False\n"
     ]
    },
    {
     "name": "stderr",
     "output_type": "stream",
     "text": [
      "<>:3: SyntaxWarning: \"is\" with a literal. Did you mean \"==\"?\n",
      "<>:3: SyntaxWarning: \"is\" with a literal. Did you mean \"==\"?\n",
      "C:\\Users\\Reza\\AppData\\Local\\Temp/ipykernel_5440/651172544.py:3: SyntaxWarning: \"is\" with a literal. Did you mean \"==\"?\n",
      "  if a is 1:\n"
     ]
    }
   ],
   "source": [
    "a = 1.0\n",
    "print(type(a))\n",
    "if a is 1:\n",
    "    print('(a is 1) is True')\n",
    "else:\n",
    "    print('(a is 1) is False')"
   ]
  },
  {
   "cell_type": "markdown",
   "id": "31c60dc5",
   "metadata": {},
   "source": [
    "## pass"
   ]
  },
  {
   "cell_type": "code",
   "execution_count": 35,
   "id": "c06e9ad2",
   "metadata": {},
   "outputs": [],
   "source": [
    "a = 1\n",
    "if a == 1:\n",
    "    #print('a is 1')\n",
    "    pass\n",
    "else:\n",
    "    print('a is not 1')"
   ]
  },
  {
   "cell_type": "markdown",
   "id": "7f55c197",
   "metadata": {},
   "source": [
    "-----------------------------------------------------\n",
    "###### تمامی حقوق برای رضا علوی محفوظ است(2021)\n",
    "###### کپی برداری از نوت بوک با ذکر منبع آزاد است"
   ]
  }
 ],
 "metadata": {
  "kernelspec": {
   "display_name": "Python 3 (ipykernel)",
   "language": "python",
   "name": "python3"
  },
  "language_info": {
   "codemirror_mode": {
    "name": "ipython",
    "version": 3
   },
   "file_extension": ".py",
   "mimetype": "text/x-python",
   "name": "python",
   "nbconvert_exporter": "python",
   "pygments_lexer": "ipython3",
   "version": "3.9.7"
  }
 },
 "nbformat": 4,
 "nbformat_minor": 5
}
