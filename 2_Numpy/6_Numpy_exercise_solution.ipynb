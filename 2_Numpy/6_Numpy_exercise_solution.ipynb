{
 "cells": [
  {
   "cell_type": "markdown",
   "id": "5b3c1cbf",
   "metadata": {},
   "source": [
    "## Numpy_exercise"
   ]
  },
  {
   "cell_type": "markdown",
   "id": "90d8149a",
   "metadata": {},
   "source": [
    "##### یک آرایه نامپای یک بعدی شامل ده تا عدد ده بسازید "
   ]
  },
  {
   "cell_type": "code",
   "execution_count": 2,
   "id": "aabc085a",
   "metadata": {},
   "outputs": [
    {
     "data": {
      "text/plain": [
       "array([10., 10., 10., 10., 10., 10., 10., 10., 10., 10.])"
      ]
     },
     "execution_count": 2,
     "metadata": {},
     "output_type": "execute_result"
    }
   ],
   "source": [
    "import numpy as np\n",
    "np.ones(10) * 10"
   ]
  },
  {
   "cell_type": "code",
   "execution_count": 3,
   "id": "56a294f4",
   "metadata": {},
   "outputs": [
    {
     "data": {
      "text/plain": [
       "array([10., 10., 10., 10., 10., 10., 10., 10., 10., 10.])"
      ]
     },
     "execution_count": 3,
     "metadata": {},
     "output_type": "execute_result"
    }
   ],
   "source": [
    "np.zeros(10) + 10"
   ]
  },
  {
   "cell_type": "markdown",
   "id": "8276d774",
   "metadata": {},
   "source": [
    "##### یک آرایه نامپای از اعداد زوج ده تا پنجاه بسازید"
   ]
  },
  {
   "cell_type": "code",
   "execution_count": 5,
   "id": "7fbe3913",
   "metadata": {},
   "outputs": [
    {
     "data": {
      "text/plain": [
       "array([10, 12, 14, 16, 18, 20, 22, 24, 26, 28, 30, 32, 34, 36, 38, 40, 42,\n",
       "       44, 46, 48, 50])"
      ]
     },
     "execution_count": 5,
     "metadata": {},
     "output_type": "execute_result"
    }
   ],
   "source": [
    "np.arange(10, 51, 2)"
   ]
  },
  {
   "cell_type": "markdown",
   "id": "d16ea8ad",
   "metadata": {},
   "source": [
    "##### یک آرایه نامپای  سه در سه از اعداد 0 تا 8 بسازید\n",
    "##### [[0 1 2] [3 4 5] [6 7 8]]"
   ]
  },
  {
   "cell_type": "code",
   "execution_count": 8,
   "id": "33a4e2fa",
   "metadata": {},
   "outputs": [
    {
     "data": {
      "text/plain": [
       "array([[0, 1, 2],\n",
       "       [3, 4, 5],\n",
       "       [6, 7, 8]])"
      ]
     },
     "execution_count": 8,
     "metadata": {},
     "output_type": "execute_result"
    }
   ],
   "source": [
    "np.arange(9).reshape((3,3))"
   ]
  },
  {
   "cell_type": "markdown",
   "id": "6c96f72a",
   "metadata": {},
   "source": [
    "##### با استفاده از نامپای یک عدد تصادفی از صفر تا یک بسازید"
   ]
  },
  {
   "cell_type": "code",
   "execution_count": 19,
   "id": "e7ff311c",
   "metadata": {},
   "outputs": [
    {
     "data": {
      "text/plain": [
       "0.1696539711222883"
      ]
     },
     "execution_count": 19,
     "metadata": {},
     "output_type": "execute_result"
    }
   ],
   "source": [
    "np.random.rand(1)[0]\n",
    "# numpy random seed"
   ]
  },
  {
   "cell_type": "markdown",
   "id": "9f1334ce",
   "metadata": {},
   "source": [
    "###  -------------------------------------------------------------------------------------------------------------------"
   ]
  },
  {
   "cell_type": "markdown",
   "id": "9f3a6eaf",
   "metadata": {},
   "source": [
    "##### آرایه زیر را در نظر بگیرید"
   ]
  },
  {
   "cell_type": "code",
   "execution_count": 1,
   "id": "489e9856",
   "metadata": {},
   "outputs": [
    {
     "data": {
      "text/plain": [
       "array([[ 1,  2,  3,  4,  5],\n",
       "       [ 6,  7,  8,  9, 10],\n",
       "       [11, 12, 13, 14, 15],\n",
       "       [16, 17, 18, 19, 20],\n",
       "       [21, 22, 23, 24, 25]])"
      ]
     },
     "execution_count": 1,
     "metadata": {},
     "output_type": "execute_result"
    }
   ],
   "source": [
    "import numpy as np\n",
    "arr = np.arange(1, 26).reshape(5, 5)\n",
    "arr"
   ]
  },
  {
   "cell_type": "markdown",
   "id": "6d985a8a",
   "metadata": {},
   "source": [
    "#####  آرایه پایین را به صورت قسمتی از آرایه بالا بدست آورید"
   ]
  },
  {
   "cell_type": "code",
   "execution_count": 23,
   "id": "b1ff2791",
   "metadata": {},
   "outputs": [
    {
     "data": {
      "text/plain": [
       "array([[12, 13, 14, 15],\n",
       "       [17, 18, 19, 20],\n",
       "       [22, 23, 24, 25]])"
      ]
     },
     "execution_count": 23,
     "metadata": {},
     "output_type": "execute_result"
    }
   ],
   "source": [
    "arr = np.arange(1, 26).reshape(5, 5)\n",
    "arr[2:, 1:]"
   ]
  },
  {
   "cell_type": "code",
   "execution_count": 2,
   "id": "4cb58889",
   "metadata": {},
   "outputs": [
    {
     "data": {
      "text/plain": [
       "array([[12, 13, 14, 15],\n",
       "       [17, 18, 19, 20],\n",
       "       [22, 23, 24, 25]])"
      ]
     },
     "execution_count": 2,
     "metadata": {},
     "output_type": "execute_result"
    }
   ],
   "source": []
  },
  {
   "cell_type": "markdown",
   "id": "cb7bef46",
   "metadata": {},
   "source": [
    "##### عدد 19 را از دل آرایه بیرون بکشید"
   ]
  },
  {
   "cell_type": "code",
   "execution_count": 25,
   "id": "65e02898",
   "metadata": {},
   "outputs": [
    {
     "data": {
      "text/plain": [
       "19"
      ]
     },
     "execution_count": 25,
     "metadata": {},
     "output_type": "execute_result"
    }
   ],
   "source": [
    "arr[3, 3]"
   ]
  },
  {
   "cell_type": "markdown",
   "id": "2ee5c611",
   "metadata": {},
   "source": [
    "##### ردیف آخر آرایه را بدست آورید"
   ]
  },
  {
   "cell_type": "code",
   "execution_count": 26,
   "id": "64ae6e5a",
   "metadata": {},
   "outputs": [
    {
     "data": {
      "text/plain": [
       "array([21, 22, 23, 24, 25])"
      ]
     },
     "execution_count": 26,
     "metadata": {},
     "output_type": "execute_result"
    }
   ],
   "source": [
    "arr[-1, :]"
   ]
  },
  {
   "cell_type": "markdown",
   "id": "df03fcbb",
   "metadata": {},
   "source": [
    "##### دو ردیف آخر آرایه را بدست آورید"
   ]
  },
  {
   "cell_type": "code",
   "execution_count": 29,
   "id": "2c383e04",
   "metadata": {},
   "outputs": [
    {
     "name": "stdout",
     "output_type": "stream",
     "text": [
      "[[ 1  2  3  4  5]\n",
      " [ 6  7  8  9 10]\n",
      " [11 12 13 14 15]\n",
      " [16 17 18 19 20]\n",
      " [21 22 23 24 25]]\n"
     ]
    },
    {
     "data": {
      "text/plain": [
       "array([[16, 17, 18, 19, 20],\n",
       "       [21, 22, 23, 24, 25]])"
      ]
     },
     "execution_count": 29,
     "metadata": {},
     "output_type": "execute_result"
    }
   ],
   "source": [
    "print(arr)\n",
    "arr[-2:, :]"
   ]
  },
  {
   "cell_type": "markdown",
   "id": "f0eb2b8e",
   "metadata": {},
   "source": [
    "##### مجموع تمام اعضای آرایه را بدست آورید یعنی عدد 325"
   ]
  },
  {
   "cell_type": "code",
   "execution_count": 3,
   "id": "b0867ea3",
   "metadata": {},
   "outputs": [
    {
     "data": {
      "text/plain": [
       "array([[ 1,  2,  3,  4,  5],\n",
       "       [ 6,  7,  8,  9, 10],\n",
       "       [11, 12, 13, 14, 15],\n",
       "       [16, 17, 18, 19, 20],\n",
       "       [21, 22, 23, 24, 25]])"
      ]
     },
     "execution_count": 3,
     "metadata": {},
     "output_type": "execute_result"
    }
   ],
   "source": [
    "arr"
   ]
  },
  {
   "cell_type": "code",
   "execution_count": 30,
   "id": "aced2de1",
   "metadata": {},
   "outputs": [
    {
     "data": {
      "text/plain": [
       "325"
      ]
     },
     "execution_count": 30,
     "metadata": {},
     "output_type": "execute_result"
    }
   ],
   "source": [
    "arr.sum()"
   ]
  },
  {
   "cell_type": "markdown",
   "id": "a65d2510",
   "metadata": {},
   "source": [
    "##### مجموع هر کدام از پنج ردیف را بدست آورید\n",
    "##### Use the (axis) argument :           axis=0         &            axis=1 "
   ]
  },
  {
   "cell_type": "code",
   "execution_count": 33,
   "id": "a1bc9384",
   "metadata": {},
   "outputs": [
    {
     "data": {
      "text/plain": [
       "array([ 15,  40,  65,  90, 115])"
      ]
     },
     "execution_count": 33,
     "metadata": {},
     "output_type": "execute_result"
    }
   ],
   "source": [
    "arr.sum(axis=1)"
   ]
  },
  {
   "cell_type": "markdown",
   "id": "3c54d2c4",
   "metadata": {},
   "source": [
    "##### مجموع هر کدام از پنج ستون را بدست آورید"
   ]
  },
  {
   "cell_type": "code",
   "execution_count": 34,
   "id": "9b58fb1b",
   "metadata": {},
   "outputs": [
    {
     "data": {
      "text/plain": [
       "array([55, 60, 65, 70, 75])"
      ]
     },
     "execution_count": 34,
     "metadata": {},
     "output_type": "execute_result"
    }
   ],
   "source": [
    "arr.sum(axis=0)"
   ]
  },
  {
   "cell_type": "markdown",
   "id": "38babb3e",
   "metadata": {},
   "source": [
    "##### تمام اعضای ماتریس را که بر سه بخشپذیرند نمایش دهید"
   ]
  },
  {
   "cell_type": "code",
   "execution_count": 35,
   "id": "a0c4d09c",
   "metadata": {},
   "outputs": [
    {
     "data": {
      "text/plain": [
       "array([ 3,  6,  9, 12, 15, 18, 21, 24])"
      ]
     },
     "execution_count": 35,
     "metadata": {},
     "output_type": "execute_result"
    }
   ],
   "source": [
    "arr[arr%3 == 0]"
   ]
  },
  {
   "cell_type": "code",
   "execution_count": 10,
   "id": "0cc29dd0",
   "metadata": {},
   "outputs": [
    {
     "data": {
      "text/plain": [
       "array([ 3,  6,  9, 12, 15, 18, 21, 24])"
      ]
     },
     "execution_count": 10,
     "metadata": {},
     "output_type": "execute_result"
    }
   ],
   "source": []
  },
  {
   "cell_type": "markdown",
   "id": "b0afc914",
   "metadata": {},
   "source": [
    "##### تمامی حقوق برای رضا علوی محفوظ است"
   ]
  },
  {
   "cell_type": "code",
   "execution_count": 1,
   "id": "052a4395",
   "metadata": {},
   "outputs": [],
   "source": [
    "import numpy as np\n",
    "a = np.array([0,1,2,3,4,5,6])"
   ]
  },
  {
   "cell_type": "code",
   "execution_count": 2,
   "id": "deaab15a",
   "metadata": {},
   "outputs": [],
   "source": [
    "def f(arr, i):\n",
    "    return arr[:i]"
   ]
  },
  {
   "cell_type": "code",
   "execution_count": null,
   "id": "a9a6658c",
   "metadata": {},
   "outputs": [],
   "source": [
    "f(a,0)"
   ]
  }
 ],
 "metadata": {
  "kernelspec": {
   "display_name": "Python 3 (ipykernel)",
   "language": "python",
   "name": "python3"
  },
  "language_info": {
   "codemirror_mode": {
    "name": "ipython",
    "version": 3
   },
   "file_extension": ".py",
   "mimetype": "text/x-python",
   "name": "python",
   "nbconvert_exporter": "python",
   "pygments_lexer": "ipython3",
   "version": "3.9.7"
  }
 },
 "nbformat": 4,
 "nbformat_minor": 5
}
