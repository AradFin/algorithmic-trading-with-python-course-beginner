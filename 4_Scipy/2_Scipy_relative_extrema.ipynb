{
 "cells": [
  {
   "cell_type": "markdown",
   "id": "cf1ecfdd",
   "metadata": {},
   "source": [
    "## Relative extrema"
   ]
  },
  {
   "cell_type": "code",
   "execution_count": 1,
   "id": "cfc829cb",
   "metadata": {},
   "outputs": [],
   "source": [
    "import numpy as np"
   ]
  },
  {
   "cell_type": "code",
   "execution_count": 2,
   "id": "caf91212",
   "metadata": {},
   "outputs": [
    {
     "data": {
      "text/plain": [
       "array([2, 1, 2, 3, 2, 0, 1, 1, 3, 4, 2, 0, 1, 2])"
      ]
     },
     "execution_count": 2,
     "metadata": {},
     "output_type": "execute_result"
    }
   ],
   "source": [
    "x = np.array([2, 1, 2, 3, 2, 0, 1, 1, 3, 4, 2, 0, 1, 2])\n",
    "x"
   ]
  },
  {
   "cell_type": "code",
   "execution_count": 3,
   "id": "b16af9af",
   "metadata": {},
   "outputs": [],
   "source": [
    "# Calculate the relative extrema of data\n",
    "# Peak : Relative maximum  \n",
    "# Trough : Relative minimum\n",
    "\n",
    "# argrelextrema( data = x, comparator = np.greater, order = 1)\n",
    "\n",
    "# np.greater, np.greater_equal, np.less, np.less_equal"
   ]
  },
  {
   "cell_type": "code",
   "execution_count": 4,
   "id": "53e0315b",
   "metadata": {},
   "outputs": [],
   "source": [
    "from scipy.signal import argrelextrema"
   ]
  },
  {
   "cell_type": "code",
   "execution_count": 7,
   "id": "216d0023",
   "metadata": {},
   "outputs": [
    {
     "data": {
      "text/plain": [
       "array([3, 9], dtype=int64)"
      ]
     },
     "execution_count": 7,
     "metadata": {},
     "output_type": "execute_result"
    }
   ],
   "source": [
    "# peaks\n",
    "peaks_ind = argrelextrema(data=x, comparator=np.greater, order=1)[0]\n",
    "peaks_ind"
   ]
  },
  {
   "cell_type": "code",
   "execution_count": 8,
   "id": "c3656a2e",
   "metadata": {},
   "outputs": [
    {
     "data": {
      "text/plain": [
       "array([ 1,  5, 11], dtype=int64)"
      ]
     },
     "execution_count": 8,
     "metadata": {},
     "output_type": "execute_result"
    }
   ],
   "source": [
    "# troughs\n",
    "troughs_ind = argrelextrema(data=x, comparator=np.less, order=1)[0]\n",
    "troughs_ind"
   ]
  },
  {
   "cell_type": "code",
   "execution_count": 9,
   "id": "7322e0fe",
   "metadata": {},
   "outputs": [
    {
     "data": {
      "text/plain": [
       "array([2, 1, 2, 3, 2, 0, 1, 1, 3, 4, 2, 0, 1, 2])"
      ]
     },
     "execution_count": 9,
     "metadata": {},
     "output_type": "execute_result"
    }
   ],
   "source": [
    "x"
   ]
  },
  {
   "cell_type": "code",
   "execution_count": 10,
   "id": "3c1d27c1",
   "metadata": {},
   "outputs": [
    {
     "name": "stdout",
     "output_type": "stream",
     "text": [
      "[0. 0. 0. 0. 0. 0. 0. 0. 0. 0. 0. 0. 0. 0.] [0. 0. 0. 0. 0. 0. 0. 0. 0. 0. 0. 0. 0. 0.]\n"
     ]
    }
   ],
   "source": [
    "peaks = np.zeros(x.shape)\n",
    "troughs = np.zeros(x.shape)\n",
    "print(peaks, troughs)"
   ]
  },
  {
   "cell_type": "code",
   "execution_count": 11,
   "id": "f1baefa3",
   "metadata": {},
   "outputs": [
    {
     "name": "stdout",
     "output_type": "stream",
     "text": [
      "[0. 0. 0. 1. 0. 0. 0. 0. 0. 1. 0. 0. 0. 0.] [0. 1. 0. 0. 0. 1. 0. 0. 0. 0. 0. 1. 0. 0.]\n"
     ]
    }
   ],
   "source": [
    "peaks[peaks_ind] = True\n",
    "troughs[troughs_ind] = True\n",
    "print(peaks, troughs)"
   ]
  },
  {
   "cell_type": "code",
   "execution_count": 12,
   "id": "a37a3345",
   "metadata": {},
   "outputs": [
    {
     "name": "stdout",
     "output_type": "stream",
     "text": [
      "for x =  2 , is peak = 0.0 , is trough = 0.0\n",
      "for x =  1 , is peak = 0.0 , is trough = 1.0\n",
      "for x =  2 , is peak = 0.0 , is trough = 0.0\n",
      "for x =  3 , is peak = 1.0 , is trough = 0.0\n",
      "for x =  2 , is peak = 0.0 , is trough = 0.0\n",
      "for x =  0 , is peak = 0.0 , is trough = 1.0\n",
      "for x =  1 , is peak = 0.0 , is trough = 0.0\n",
      "for x =  1 , is peak = 0.0 , is trough = 0.0\n",
      "for x =  3 , is peak = 0.0 , is trough = 0.0\n",
      "for x =  4 , is peak = 1.0 , is trough = 0.0\n",
      "for x =  2 , is peak = 0.0 , is trough = 0.0\n",
      "for x =  0 , is peak = 0.0 , is trough = 1.0\n",
      "for x =  1 , is peak = 0.0 , is trough = 0.0\n",
      "for x =  2 , is peak = 0.0 , is trough = 0.0\n"
     ]
    }
   ],
   "source": [
    "for i in range(len(x)):\n",
    "    print('for x = ', x[i], ', is peak =', peaks[i], ', is trough =', troughs[i])"
   ]
  },
  {
   "cell_type": "markdown",
   "id": "5b3af4a3",
   "metadata": {},
   "source": [
    "##### تمامی حقوق برای رضا علوی محفوظ است"
   ]
  }
 ],
 "metadata": {
  "kernelspec": {
   "display_name": "Python 3 (ipykernel)",
   "language": "python",
   "name": "python3"
  },
  "language_info": {
   "codemirror_mode": {
    "name": "ipython",
    "version": 3
   },
   "file_extension": ".py",
   "mimetype": "text/x-python",
   "name": "python",
   "nbconvert_exporter": "python",
   "pygments_lexer": "ipython3",
   "version": "3.9.7"
  }
 },
 "nbformat": 4,
 "nbformat_minor": 5
}
