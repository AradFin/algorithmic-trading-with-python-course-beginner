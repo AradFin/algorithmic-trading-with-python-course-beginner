{
 "cells": [
  {
   "cell_type": "code",
   "execution_count": 1,
   "id": "f912e326",
   "metadata": {},
   "outputs": [],
   "source": [
    "import scipy.optimize as optimize\n",
    "import numpy as np\n",
    "\n",
    "def f(params):\n",
    "    # print(params)  # <-- you'll see that params is a NumPy array\n",
    "    a, b, c = params # <-- for readability you may wish to assign names to the component variables\n",
    "    return 2 ** (1 + a + b ** c)"
   ]
  },
  {
   "cell_type": "code",
   "execution_count": 9,
   "id": "c17ec9ad",
   "metadata": {},
   "outputs": [
    {
     "name": "stderr",
     "output_type": "stream",
     "text": [
      "C:\\Users\\Reza\\AppData\\Local\\Temp/ipykernel_18252/3138867195.py:7: RuntimeWarning: invalid value encountered in double_scalars\n",
      "  return 2 ** (1 + a + b ** c)\n"
     ]
    },
    {
     "ename": "ValueError",
     "evalue": "Singular matrix E in LSQ subproblem",
     "output_type": "error",
     "traceback": [
      "\u001b[1;31m---------------------------------------------------------------------------\u001b[0m",
      "\u001b[1;31mValueError\u001b[0m                                Traceback (most recent call last)",
      "\u001b[1;32m~\\AppData\\Local\\Temp/ipykernel_18252/3421407611.py\u001b[0m in \u001b[0;36m<module>\u001b[1;34m\u001b[0m\n\u001b[0;32m      8\u001b[0m     \u001b[0mprint\u001b[0m\u001b[1;33m(\u001b[0m\u001b[0mfitted_params\u001b[0m\u001b[1;33m)\u001b[0m\u001b[1;33m\u001b[0m\u001b[1;33m\u001b[0m\u001b[0m\n\u001b[0;32m      9\u001b[0m \u001b[1;32melse\u001b[0m\u001b[1;33m:\u001b[0m\u001b[1;33m\u001b[0m\u001b[1;33m\u001b[0m\u001b[0m\n\u001b[1;32m---> 10\u001b[1;33m     \u001b[1;32mraise\u001b[0m \u001b[0mValueError\u001b[0m\u001b[1;33m(\u001b[0m\u001b[0mresult\u001b[0m\u001b[1;33m.\u001b[0m\u001b[0mmessage\u001b[0m\u001b[1;33m)\u001b[0m\u001b[1;33m\u001b[0m\u001b[1;33m\u001b[0m\u001b[0m\n\u001b[0m",
      "\u001b[1;31mValueError\u001b[0m: Singular matrix E in LSQ subproblem"
     ]
    }
   ],
   "source": [
    "con1 = {'type': 'ineq', 'fun': f} # Forces value to be greater than zero.  \n",
    "cons = [con1]\n",
    "initial_guess = [1.0, 1.0, 1.0]\n",
    "result = optimize.minimize(f, initial_guess, method='SLSQP', \n",
    "                           bounds=[(-1, 1), (-1, 1), (-1, 1)],options={'eps': .1})\n",
    "if result.success:\n",
    "    fitted_params = result.x\n",
    "    print(fitted_params)\n",
    "else:\n",
    "    raise ValueError(result.message)"
   ]
  },
  {
   "cell_type": "code",
   "execution_count": 37,
   "id": "b6dd0c45",
   "metadata": {},
   "outputs": [],
   "source": [
    "result = optimize.minimize(f, \n",
    "                          initial_guess, \n",
    "                          #method='SLSQP', \n",
    "                          bounds=[(-10.0, 1.0), (-10.0, 1.0), (-10.0, 1.0)],\n",
    "                          options={'disp': True},\n",
    "                          constraints=cons,)"
   ]
  },
  {
   "cell_type": "code",
   "execution_count": 38,
   "id": "e2cb3c98",
   "metadata": {},
   "outputs": [
    {
     "name": "stdout",
     "output_type": "stream",
     "text": [
      "[-5.01610274e-09 -5.01610274e-09 -5.01612394e-09]\n"
     ]
    }
   ],
   "source": [
    "#...\n",
    "if result.success:\n",
    "    fitted_params = result.x\n",
    "    print(fitted_params)\n",
    "else:\n",
    "    raise ValueError(result.message)"
   ]
  },
  {
   "cell_type": "code",
   "execution_count": null,
   "id": "21c810b3",
   "metadata": {},
   "outputs": [],
   "source": []
  }
 ],
 "metadata": {
  "kernelspec": {
   "display_name": "Python 3 (ipykernel)",
   "language": "python",
   "name": "python3"
  },
  "language_info": {
   "codemirror_mode": {
    "name": "ipython",
    "version": 3
   },
   "file_extension": ".py",
   "mimetype": "text/x-python",
   "name": "python",
   "nbconvert_exporter": "python",
   "pygments_lexer": "ipython3",
   "version": "3.9.7"
  }
 },
 "nbformat": 4,
 "nbformat_minor": 5
}
